{
 "cells": [
  {
   "cell_type": "markdown",
   "metadata": {},
   "source": [
    "## **ML1: Supervised ML Final Project**\n",
    "\n",
    "- **By : Mahmoud Ahmed Shawqi**\n",
    "- **Intake : 44**\n",
    "- **Track : AI**\n",
    "- **Branch : Smart Village**"
   ]
  },
  {
   "cell_type": "markdown",
   "metadata": {},
   "source": [
    "## 1- Installing mediapipe Lib"
   ]
  },
  {
   "cell_type": "code",
   "execution_count": null,
   "metadata": {},
   "outputs": [],
   "source": [
    "!pip install mediapipe"
   ]
  },
  {
   "cell_type": "markdown",
   "metadata": {},
   "source": [
    "## 2- Importing Libraries"
   ]
  },
  {
   "cell_type": "code",
   "execution_count": 1,
   "metadata": {},
   "outputs": [],
   "source": [
    "import numpy as np\n",
    "from pathlib import Path\n",
    "import os,cv2\n",
    "import scipy.io as sio\n",
    "from math import cos, sin\n",
    "from pathlib import Path\n",
    "import pandas as pd\n",
    "import mediapipe as mp\n",
    "import warnings\n",
    "import matplotlib.pyplot as plt\n",
    "warnings.filterwarnings('ignore')"
   ]
  },
  {
   "cell_type": "markdown",
   "metadata": {},
   "source": [
    "## 3- Data cleaning (Check if any image does not have **face landmarks**)"
   ]
  },
  {
   "cell_type": "code",
   "execution_count": 2,
   "metadata": {},
   "outputs": [],
   "source": [
    "def check_face_marks(folder_path):\n",
    "    un_found_landmarks_images = []\n",
    "    # Iterate over all files in the folder\n",
    "    for file_path in folder_path.iterdir():\n",
    "        if file_path.is_file():\n",
    "            # Process the file here\n",
    "            # print(file_path)\n",
    "            faceModule = mp.solutions.face_mesh\n",
    "            # loading image and its corresponding mat file\n",
    "            with faceModule.FaceMesh(static_image_mode=True) as faces:\n",
    "                # loading the image\n",
    "                image = cv2.imread(str(file_path))  # Convert Path object to string\n",
    "                # print(image.shape)  # Check the shape of the loaded image\n",
    "                # processing the face to extract the landmark points (468 point) for each x,y,z\n",
    "                results = faces.process(cv2.cvtColor(image, cv2.COLOR_BGR2RGB))\n",
    "                if results.multi_face_landmarks != None: \n",
    "                    # looping over the faces in the image\n",
    "                    for face in results.multi_face_landmarks:\n",
    "                        for landmark in face.landmark:\n",
    "                            x = landmark.x\n",
    "                            y = landmark.y\n",
    "                            # note: the x and y values are scaled to their width and height so we will get back their actual value in the image\n",
    "                            shape = image.shape \n",
    "                            relative_x = int(x * shape[1])\n",
    "                            relative_y = int(y * shape[0])\n",
    "                            # print(x,y)\n",
    "                            # cv2.putText(image, str(relative_y), (int(relative_x),int(relative_y)), cv2.FONT_HERSHEY_SIMPLEX, 0.4, (0,255,0), 2)\n",
    "                            cv2.circle(image, (relative_x, relative_y), radius=1, color=(0, 255, 0), thickness=2)\n",
    "                else:\n",
    "                    print(file_path, 'Un found face landmarks')\n",
    "                    un_found_landmarks_images.append(file_path)\n",
    "        else:\n",
    "            print(file_path, 'UN_FOUND_file')\n",
    "    return un_found_landmarks_images\n",
    "\n",
    "\n",
    "folder_path = Path(r'.\\Data')\n",
    "un_found_landmarks_images = check_face_marks(folder_path)\n",
    "unused_labels = []\n",
    "for path in un_found_landmarks_images:\n",
    "    unused_labels.append(Path(str(path).replace('Data', 'Labels').replace('jpg', 'mat')))"
   ]
  },
  {
   "cell_type": "code",
   "execution_count": 40,
   "metadata": {},
   "outputs": [
    {
     "data": {
      "text/plain": [
       "147"
      ]
     },
     "execution_count": 40,
     "metadata": {},
     "output_type": "execute_result"
    }
   ],
   "source": [
    "len(unused_labels)"
   ]
  },
  {
   "cell_type": "markdown",
   "metadata": {},
   "source": [
    "## 4- Get all face landmarks **(Data)**"
   ]
  },
  {
   "cell_type": "code",
   "execution_count": 41,
   "metadata": {},
   "outputs": [],
   "source": [
    "def get_all_faces_marks(folder_path, unmarked_images_paths):\n",
    "    x_pos = []\n",
    "    y_pos = []\n",
    "    all_poses = []\n",
    "    # Iterate over all files in the folder\n",
    "    for file_path in filter(lambda x: x not in unmarked_images_paths, folder_path.iterdir()):\n",
    "        if file_path.is_file():\n",
    "            # Process the file here\n",
    "            # print(file_path)\n",
    "            faceModule = mp.solutions.face_mesh\n",
    "            # loading image and its corresponding mat file\n",
    "            with faceModule.FaceMesh(static_image_mode=True) as faces:\n",
    "                # loading the image\n",
    "                image = cv2.imread(str(file_path))  # Convert Path object to string\n",
    "                # print(image.shape)  # Check the shape of the loaded image\n",
    "                # processing the face to extract the landmark points (468 point) for each x,y,z\n",
    "                results = faces.process(cv2.cvtColor(image, cv2.COLOR_BGR2RGB))\n",
    "                if results.multi_face_landmarks != None: \n",
    "                    # looping over the faces in the image\n",
    "                    for face in results.multi_face_landmarks:\n",
    "                        for landmark in face.landmark:\n",
    "                            x = landmark.x\n",
    "                            y = landmark.y\n",
    "                            # note: the x and y values are scaled to their width and height so we will get back their actual value in the image\n",
    "                            shape = image.shape \n",
    "                            relative_x = int(x * shape[1])\n",
    "                            relative_y = int(y * shape[0])\n",
    "                            x_pos.append(x)\n",
    "                            y_pos.append(y)\n",
    "                            # print(x,y)\n",
    "                            # cv2.putText(image, str(relative_y), (int(relative_x),int(relative_y)), cv2.FONT_HERSHEY_SIMPLEX, 0.4, (0,255,0), 2)\n",
    "                            cv2.circle(image, (relative_x, relative_y), radius=1, color=(0, 255, 0), thickness=2)\n",
    "                        x_y_poses = np.array([x_pos, y_pos]).reshape((1,-1))\n",
    "                        all_poses.append(x_y_poses)\n",
    "                        x_pos.clear()\n",
    "                        y_pos.clear()\n",
    "    all_poses = np.array(all_poses)\n",
    "    return all_poses            \n",
    "                        \n",
    "\n",
    "\n",
    "folder_path = Path(r'.\\Data')\n",
    "all_poses = get_all_faces_marks(folder_path, unused_labels)"
   ]
  },
  {
   "cell_type": "markdown",
   "metadata": {},
   "source": [
    "## 5- Shaping and Dimensions adjusting"
   ]
  },
  {
   "cell_type": "code",
   "execution_count": 42,
   "metadata": {},
   "outputs": [
    {
     "name": "stdout",
     "output_type": "stream",
     "text": [
      "(1853, 1, 936)\n"
     ]
    }
   ],
   "source": [
    "print(all_poses.shape)"
   ]
  },
  {
   "cell_type": "code",
   "execution_count": 43,
   "metadata": {},
   "outputs": [
    {
     "name": "stdout",
     "output_type": "stream",
     "text": [
      "(1853, 936)\n"
     ]
    }
   ],
   "source": [
    "all_poses = all_poses.reshape((all_poses.shape[0], -1))\n",
    "print(all_poses.shape)"
   ]
  },
  {
   "cell_type": "code",
   "execution_count": 44,
   "metadata": {},
   "outputs": [],
   "source": [
    "data = pd.DataFrame(all_poses)\n",
    "data.to_csv('data.csv', index=False)  \n"
   ]
  },
  {
   "cell_type": "markdown",
   "metadata": {},
   "source": [
    "## 6- Gettint Angles (pitch, yaw, roll) ===>> **(Labels)**"
   ]
  },
  {
   "cell_type": "code",
   "execution_count": 96,
   "metadata": {},
   "outputs": [
    {
     "name": "stdout",
     "output_type": "stream",
     "text": [
      "(1853, 3)\n"
     ]
    }
   ],
   "source": [
    "def get_angles(folder_path, unused_labels):\n",
    "    angles = []\n",
    "    # Iterate over all files in the folder\n",
    "    for file_path in folder_path.iterdir():\n",
    "        if file_path in unused_labels:\n",
    "            continue\n",
    "        else:\n",
    "            if file_path.is_file():\n",
    "                # Process the file here\n",
    "                mat_file = sio.loadmat(file_path)\n",
    "                # extracting the labels 3 angels\n",
    "                pose_para = mat_file[\"Pose_Para\"][0][:3]\n",
    "                pitch = pose_para[0]\n",
    "                yaw = pose_para[1]\n",
    "                roll = pose_para[2]\n",
    "                angles.append([pitch, yaw, roll])\n",
    "                # print(pitch, yaw, roll)\n",
    "    angles = np.array(angles)\n",
    "    return angles\n",
    "\n",
    "\n",
    "folder_path = Path(r'.\\Labels')\n",
    "angles = get_angles(folder_path, unused_labels)\n",
    "print(angles.shape)"
   ]
  },
  {
   "cell_type": "code",
   "execution_count": 97,
   "metadata": {},
   "outputs": [
    {
     "data": {
      "text/html": [
       "<div>\n",
       "<style scoped>\n",
       "    .dataframe tbody tr th:only-of-type {\n",
       "        vertical-align: middle;\n",
       "    }\n",
       "\n",
       "    .dataframe tbody tr th {\n",
       "        vertical-align: top;\n",
       "    }\n",
       "\n",
       "    .dataframe thead th {\n",
       "        text-align: right;\n",
       "    }\n",
       "</style>\n",
       "<table border=\"1\" class=\"dataframe\">\n",
       "  <thead>\n",
       "    <tr style=\"text-align: right;\">\n",
       "      <th></th>\n",
       "      <th>pitch</th>\n",
       "      <th>yaw</th>\n",
       "      <th>roll</th>\n",
       "    </tr>\n",
       "  </thead>\n",
       "  <tbody>\n",
       "    <tr>\n",
       "      <th>0</th>\n",
       "      <td>-0.399231</td>\n",
       "      <td>0.018227</td>\n",
       "      <td>0.085676</td>\n",
       "    </tr>\n",
       "    <tr>\n",
       "      <th>1</th>\n",
       "      <td>0.470065</td>\n",
       "      <td>1.189533</td>\n",
       "      <td>0.300959</td>\n",
       "    </tr>\n",
       "    <tr>\n",
       "      <th>2</th>\n",
       "      <td>-0.184650</td>\n",
       "      <td>0.881137</td>\n",
       "      <td>-0.236852</td>\n",
       "    </tr>\n",
       "    <tr>\n",
       "      <th>3</th>\n",
       "      <td>-0.175379</td>\n",
       "      <td>0.299208</td>\n",
       "      <td>-0.373374</td>\n",
       "    </tr>\n",
       "    <tr>\n",
       "      <th>4</th>\n",
       "      <td>-0.026812</td>\n",
       "      <td>0.011965</td>\n",
       "      <td>-0.220662</td>\n",
       "    </tr>\n",
       "  </tbody>\n",
       "</table>\n",
       "</div>"
      ],
      "text/plain": [
       "      pitch       yaw      roll\n",
       "0 -0.399231  0.018227  0.085676\n",
       "1  0.470065  1.189533  0.300959\n",
       "2 -0.184650  0.881137 -0.236852\n",
       "3 -0.175379  0.299208 -0.373374\n",
       "4 -0.026812  0.011965 -0.220662"
      ]
     },
     "execution_count": 97,
     "metadata": {},
     "output_type": "execute_result"
    }
   ],
   "source": [
    "df = pd.DataFrame(angles)\n",
    "df.rename(columns={0: 'pitch', 1: 'yaw', 2: 'roll'}, inplace=True)\n",
    "df.to_csv('labels.csv', index=False)\n",
    "df.head()\n"
   ]
  },
  {
   "cell_type": "markdown",
   "metadata": {},
   "source": [
    "## 7.1- Defining ML model Training :\n",
    "- Features\n",
    "- Labels"
   ]
  },
  {
   "cell_type": "code",
   "execution_count": 41,
   "metadata": {},
   "outputs": [],
   "source": [
    "# all_poses = pd.read_csv('data.csv').to_numpy()\n",
    "# angles = pd.read_csv('labels.csv').to_numpy()"
   ]
  },
  {
   "cell_type": "code",
   "execution_count": 42,
   "metadata": {},
   "outputs": [
    {
     "name": "stdout",
     "output_type": "stream",
     "text": [
      "(1853, 936)\n",
      "(1853, 3)\n"
     ]
    }
   ],
   "source": [
    "features = all_poses[:]\n",
    "labels = angles[:]\n",
    "print(features.shape)\n",
    "print(labels.shape)"
   ]
  },
  {
   "cell_type": "markdown",
   "metadata": {},
   "source": [
    "## 7.2- Normalizing cordinates to reduce camera (frame) movement effect:"
   ]
  },
  {
   "cell_type": "code",
   "execution_count": 45,
   "metadata": {},
   "outputs": [
    {
     "name": "stdout",
     "output_type": "stream",
     "text": [
      "Normalized x shape: (1853, 468)\n",
      "Normalized y shape: (1853, 468)\n",
      "Reconstructed features shape: (1853, 936)\n"
     ]
    }
   ],
   "source": [
    "x = features[:, :468]\n",
    "y = features[:, 468:]\n",
    "\n",
    "# Normalize x\n",
    "x_normalized = x / np.max(x, axis=1)[:, np.newaxis]\n",
    "\n",
    "# Normalize y\n",
    "y_normalized = y / np.max(y, axis=1)[:, np.newaxis]\n",
    "\n",
    "print(\"Normalized x shape:\", x_normalized.shape)\n",
    "print(\"Normalized y shape:\", y_normalized.shape)\n",
    "\n",
    "features = np.hstack((x_normalized, y_normalized))\n",
    "\n",
    "print(\"Reconstructed features shape:\", features.shape)"
   ]
  },
  {
   "cell_type": "markdown",
   "metadata": {},
   "source": [
    "## 8.1- Training 5 Different models (Linear Model Lasso - Elastic Net - Random Forest Regressor - Random forest - Decision Tree) and investigate scores"
   ]
  },
  {
   "cell_type": "code",
   "execution_count": 46,
   "metadata": {},
   "outputs": [
    {
     "name": "stdout",
     "output_type": "stream",
     "text": [
      "labels_train.shape =  (1111, 3)\n",
      "labels_validation.shape =  (371, 3)\n",
      "==================================================\n",
      "LR model Lasso: \n",
      "Train :  0.5089308991792797\n",
      "Validation :  0.5604154599391237\n",
      "==================================================\n",
      "LR model Ridge: \n",
      "Train :  0.7025952323083887\n",
      "Validation :  0.4385334705201689\n",
      "==================================================\n",
      "Elastic Net model : \n",
      "Train :  0.4818816735584132\n",
      "Validation :  0.5706245245175157\n",
      "==================================================\n",
      "Random Forest model : \n",
      "Train :  0.8957949295291686\n",
      "Validation :  0.5663483431504246\n",
      "==================================================\n",
      "Decision Tree model : \n",
      "Train :  0.5053565832977682\n",
      "Validation :  0.47113230098160513\n"
     ]
    }
   ],
   "source": [
    "from sklearn import linear_model\n",
    "from sklearn.linear_model import Ridge\n",
    "from sklearn.linear_model import ElasticNet\n",
    "from sklearn.model_selection import train_test_split\n",
    "from sklearn.ensemble import RandomForestRegressor\n",
    "from sklearn.tree import DecisionTreeRegressor\n",
    "\n",
    "r_seed = 99\n",
    "features_train, features_validation_test, labels_train, labels_validation_test = train_test_split(features, labels, test_size=0.4, random_state=r_seed)\n",
    "features_validation, features_test, labels_validation, labels_test = train_test_split(features_validation_test, labels_validation_test, test_size=0.5, random_state=r_seed)\n",
    "\n",
    "print('labels_train.shape = ', labels_train.shape)\n",
    "print('labels_validation.shape = ', labels_validation.shape)\n",
    "print('=' * 50)\n",
    "\n",
    "## LinearRegression Lasso ##\n",
    "lasso_reg = linear_model.Lasso(alpha=0.0001, max_iter=10000)\n",
    "lasso_reg.fit(features_train, labels_train)\n",
    "\n",
    "# ## LinearRegression Ridge ##\n",
    "ridge_reg = Ridge(alpha=0.001, max_iter=10000)  \n",
    "ridge_reg.fit(features_train, labels_train)\n",
    "\n",
    "# ## ElasticNet Model ##\n",
    "alpha = 0.001  # regularization strength\n",
    "l1_ratio = 0.05  # mixing parameter for L1 and L2 penalties\n",
    "elastic_net = ElasticNet(alpha=alpha, l1_ratio=l1_ratio, random_state=r_seed)\n",
    "elastic_net.fit(features_train, labels_train)\n",
    "\n",
    "# ## Random Forest ##\n",
    "random_forest_reg = RandomForestRegressor(n_estimators=100, max_depth=20, n_jobs=-1, random_state=r_seed)\n",
    "random_forest_reg.fit(features_train, labels_train)\n",
    "\n",
    "# ## Decision Tree ##\n",
    "dt_regressor = DecisionTreeRegressor(max_depth=20, min_samples_split=10, min_samples_leaf=10, random_state=r_seed)\n",
    "dt_regressor.fit(features_train, labels_train)\n",
    "\n",
    "print('LR model Lasso: ')\n",
    "print('Train : ', lasso_reg.score(features_train, labels_train))\n",
    "print('Validation : ', lasso_reg.score(features_validation, labels_validation))\n",
    "print('=' * 50)\n",
    "print('LR model Ridge: ')\n",
    "print('Train : ', ridge_reg.score(features_train, labels_train))\n",
    "print('Validation : ', ridge_reg.score(features_validation, labels_validation))\n",
    "print('=' * 50)\n",
    "print('Elastic Net model : ')\n",
    "print('Train : ', elastic_net.score(features_train, labels_train))\n",
    "print('Validation : ', elastic_net.score(features_validation, labels_validation))\n",
    "print('=' * 50)\n",
    "print('Random Forest model : ')\n",
    "print('Train : ', random_forest_reg.score(features_train, labels_train))\n",
    "print('Validation : ', random_forest_reg.score(features_validation, labels_validation))\n",
    "print('=' * 50)\n",
    "print('Decision Tree model : ')\n",
    "print('Train : ', dt_regressor.score(features_train, labels_train))\n",
    "print('Validation : ', dt_regressor.score(features_validation, labels_validation))"
   ]
  },
  {
   "cell_type": "code",
   "execution_count": 17,
   "metadata": {},
   "outputs": [
    {
     "name": "stdout",
     "output_type": "stream",
     "text": [
      "Average Train Scores:\n",
      "Lasso: 0.7198588487747631\n",
      "Ridge: 0.7829101893733234\n",
      "Elastic Net: 0.7090916188216358\n",
      "Decision Tree: 0.7360536111748249\n",
      "==================================================\n",
      "Average Validation Scores:\n",
      "Lasso: 0.681339796873345\n",
      "Ridge: 0.6896987236761547\n",
      "Elastic Net: 0.6717208710814958\n",
      "Decision Tree: 0.5599536848383206\n"
     ]
    }
   ],
   "source": [
    "from sklearn.model_selection import KFold\n",
    "\n",
    "# Define the number of folds\n",
    "n_splits = 5  # You can adjust the number of folds as needed\n",
    "\n",
    "# Create KFold instance\n",
    "kf = KFold(n_splits=n_splits, shuffle=True, random_state=r_seed)\n",
    "\n",
    "# Initialize lists to store scores\n",
    "# (you may need to adjust these based on your specific metrics)\n",
    "lasso_train_scores = []\n",
    "lasso_val_scores = []\n",
    "ridge_train_scores = []\n",
    "ridge_val_scores = []\n",
    "elastic_net_train_scores = []\n",
    "elastic_net_val_scores = []\n",
    "random_forest_train_scores = []\n",
    "random_forest_val_scores = []\n",
    "dt_train_scores = []\n",
    "dt_val_scores = []\n",
    "features = pd.DataFrame(all_poses[:1000])\n",
    "\n",
    "\n",
    "# Loop over the folds\n",
    "for train_index, val_index in kf.split(features):\n",
    "    features_train, features_validation = features.iloc[train_index], features.iloc[val_index]\n",
    "    labels_train, labels_validation = labels[train_index], labels[val_index]\n",
    "    \n",
    "\n",
    "# Loop over the folds\n",
    "for train_index, val_index in kf.split(features, labels):\n",
    "    features_train, features_validation = features.iloc[train_index], features.iloc[val_index]\n",
    "    labels_train, labels_validation = labels[train_index], labels[val_index]\n",
    "    \n",
    "\n",
    "    ## LinearRegression Lasso ##\n",
    "    lasso_reg_kfold = linear_model.Lasso(alpha=0.0001, max_iter=10000)\n",
    "    lasso_reg_kfold.fit(features_train, labels_train)\n",
    "    lasso_train_scores.append(lasso_reg_kfold.score(features_train, labels_train))\n",
    "    lasso_val_scores.append(lasso_reg_kfold.score(features_validation, labels_validation))\n",
    "\n",
    "    ## LinearRegression Ridge ##\n",
    "    ridge_reg_kfold = Ridge(alpha=0.001, max_iter=10000)  \n",
    "    ridge_reg_kfold.fit(features_train, labels_train)\n",
    "    ridge_train_scores.append(ridge_reg_kfold.score(features_train, labels_train))\n",
    "    ridge_val_scores.append(ridge_reg_kfold.score(features_validation, labels_validation))\n",
    "\n",
    "    ## ElasticNet Model ##\n",
    "    alpha = 0.001  # regularization strength\n",
    "    l1_ratio = 0.05  # mixing parameter for L1 and L2 penalties\n",
    "    elastic_net_kfold = ElasticNet(alpha=alpha, l1_ratio=l1_ratio, random_state=r_seed)\n",
    "    elastic_net_kfold.fit(features_train, labels_train)\n",
    "    elastic_net_train_scores.append(elastic_net_kfold.score(features_train, labels_train))\n",
    "    elastic_net_val_scores.append(elastic_net_kfold.score(features_validation, labels_validation))\n",
    "\n",
    "    \n",
    "\n",
    "    ## Decision Tree ##\n",
    "    dt_regressor_kfold = DecisionTreeRegressor(max_depth=20, min_samples_split=10, min_samples_leaf=10, random_state=r_seed)\n",
    "    dt_regressor_kfold.fit(features_train, labels_train)\n",
    "    dt_train_scores.append(dt_regressor_kfold.score(features_train, labels_train))\n",
    "    dt_val_scores.append(dt_regressor_kfold.score(features_validation, labels_validation))\n",
    "\n",
    "# Print average scores\n",
    "print('Average Train Scores:')\n",
    "print('Lasso:', np.mean(lasso_train_scores))\n",
    "print('Ridge:', np.mean(ridge_train_scores))\n",
    "print('Elastic Net:', np.mean(elastic_net_train_scores))\n",
    "print('Decision Tree:', np.mean(dt_train_scores))\n",
    "print('=' * 50)\n",
    "print('Average Validation Scores:')\n",
    "print('Lasso:', np.mean(lasso_val_scores))\n",
    "print('Ridge:', np.mean(ridge_val_scores))\n",
    "print('Elastic Net:', np.mean(elastic_net_val_scores))\n",
    "print('Decision Tree:', np.mean(dt_val_scores))\n"
   ]
  },
  {
   "cell_type": "markdown",
   "metadata": {},
   "source": [
    "### **From Kfold splitting and testing it seems that ridge regressor is the best !!**\n",
    "#### **Let's Test ..**\n"
   ]
  },
  {
   "cell_type": "markdown",
   "metadata": {},
   "source": [
    "## 8.2- Testing Models:"
   ]
  },
  {
   "cell_type": "code",
   "execution_count": 47,
   "metadata": {},
   "outputs": [
    {
     "name": "stdout",
     "output_type": "stream",
     "text": [
      "LR model Lasso: \n",
      "Test :  0.34975790698826364\n",
      "==================================================\n",
      "LR model Ridge: \n",
      "Test :  0.2764078203821782\n",
      "==================================================\n",
      "Elastic Net model : \n",
      "Test :  0.34562585226943177\n",
      "==================================================\n",
      "Random Forest model : \n",
      "Test :  0.2927244642296929\n",
      "==================================================\n",
      "Decision Tree model : \n",
      "Test :  0.27700843655390917\n"
     ]
    }
   ],
   "source": [
    "print('LR model Lasso: ')\n",
    "print('Test : ', lasso_reg.score(features_test, labels_test))\n",
    "print('=' * 50)\n",
    "print('LR model Ridge: ')\n",
    "print('Test : ', ridge_reg.score(features_test, labels_test))\n",
    "print('=' * 50)\n",
    "print('Elastic Net model : ')\n",
    "print('Test : ', elastic_net.score(features_test, labels_test))\n",
    "print('=' * 50)\n",
    "print('Random Forest model : ')\n",
    "print('Test : ', random_forest_reg.score(features_test, labels_test))\n",
    "print('=' * 50)\n",
    "print('Decision Tree model : ')\n",
    "print('Test : ', dt_regressor.score(features_test, labels_test))"
   ]
  },
  {
   "cell_type": "markdown",
   "metadata": {},
   "source": [
    "### **WE Are now see LR Lasso, and Elastic Net are the best models**"
   ]
  },
  {
   "cell_type": "markdown",
   "metadata": {},
   "source": [
    "## 9- Saving the 5 Models locally"
   ]
  },
  {
   "cell_type": "code",
   "execution_count": 59,
   "metadata": {},
   "outputs": [
    {
     "data": {
      "text/plain": [
       "['dt_regressor.pkl']"
      ]
     },
     "execution_count": 59,
     "metadata": {},
     "output_type": "execute_result"
    }
   ],
   "source": [
    "import joblib\n",
    "joblib.dump(lasso_reg, 'LR_model.pkl')\n",
    "joblib.dump(ridge_reg, 'ridge_reg.pkl')\n",
    "joblib.dump(elastic_net, 'elastic_net.pkl')\n",
    "joblib.dump(random_forest_reg, 'random_forest_reg.pkl')\n",
    "joblib.dump(dt_regressor, 'dt_regressor.pkl')"
   ]
  },
  {
   "cell_type": "markdown",
   "metadata": {},
   "source": [
    "## 10- Use one model (Lasso Model)"
   ]
  },
  {
   "cell_type": "code",
   "execution_count": 2,
   "metadata": {},
   "outputs": [],
   "source": [
    "import joblib\n",
    "loaded_model = joblib.load('elastic_net.pkl')"
   ]
  },
  {
   "cell_type": "markdown",
   "metadata": {},
   "source": [
    "## 11- Testing the model on Real Data from life"
   ]
  },
  {
   "cell_type": "code",
   "execution_count": 9,
   "metadata": {},
   "outputs": [
    {
     "name": "stdout",
     "output_type": "stream",
     "text": [
      "(1, 936)\n",
      "[[ 0.09949924 -0.01915725  0.15287704]]\n"
     ]
    },
    {
     "data": {
      "text/plain": [
       "<matplotlib.image.AxesImage at 0x1ff730b3490>"
      ]
     },
     "execution_count": 9,
     "metadata": {},
     "output_type": "execute_result"
    },
    {
     "data": {
      "image/png": "[encoded data removed]",
      "text/plain": [
       "<Figure size 640x480 with 1 Axes>"
      ]
     },
     "metadata": {},
     "output_type": "display_data"
    }
   ],
   "source": [
    "def get_face_points(image_path):\n",
    "    x_pos = []\n",
    "    y_pos = []\n",
    "    faceModule = mp.solutions.face_mesh\n",
    "    # loading image and its corresponding mat file\n",
    "    with faceModule.FaceMesh(static_image_mode=True) as faces:\n",
    "        # loading the image\n",
    "        image = cv2.imread(image_path)\n",
    "        # processing the face to extract the landmark points (468 points) for each x,y,z\n",
    "        results = faces.process(cv2.cvtColor(image, cv2.COLOR_BGR2RGB))\n",
    "        if results.multi_face_landmarks != None: \n",
    "            # looping over the faces in the image\n",
    "            for face in results.multi_face_landmarks:\n",
    "                for landmark in face.landmark:\n",
    "                    x = landmark.x\n",
    "                    y = landmark.y\n",
    "                    # note: the x and y values are scaled to their width and height so we will get back their actual value in the image\n",
    "                    shape = image.shape \n",
    "                    relative_x = int(x * shape[1])\n",
    "                    relative_y = int(y * shape[0])\n",
    "                    x_pos.append(x)\n",
    "                    y_pos.append(y)\n",
    "                    x_pos_arr = np.array(x_pos)\n",
    "                    y_pos_arr = np.array(y_pos)\n",
    "                    cv2.putText(image, str(relative_y), (int(relative_x),int(relative_y)), cv2.FONT_HERSHEY_SIMPLEX, 0.4, (0,255,0), 2)\n",
    "                    cv2.circle(image, (relative_x, relative_y), radius=1, color=(0, 255, 0), thickness=2)\n",
    "    poses = np.array([x_pos / np.max(x_pos_arr), y_pos / np.max(y_pos_arr)]).reshape((1,-1))\n",
    "    return poses\n",
    "\n",
    "\n",
    "def draw_axis(img, pitch,yaw,roll, tdx=None, tdy=None, size = 100):\n",
    "    yaw = -yaw\n",
    "    if tdx != None and tdy != None:\n",
    "        tdx = tdx\n",
    "        tdy = tdy\n",
    "    else:\n",
    "        height, width = img.shape[:2]\n",
    "        tdx = width / 8\n",
    "        tdy = height / 8\n",
    "\n",
    "    # X-Axis pointing to right. drawn in red\n",
    "    x1 = size * (cos(yaw) * cos(roll)) + tdx\n",
    "    y1 = size * (cos(pitch) * sin(roll) + cos(roll) * sin(pitch) * sin(yaw)) + tdy\n",
    "\n",
    "    # Y-Axis | drawn in green\n",
    "    #        v\n",
    "    x2 = size * (-cos(yaw) * sin(roll)) + tdx\n",
    "    y2 = size * (cos(pitch) * cos(roll) - sin(pitch) * sin(yaw) * sin(roll)) + tdy\n",
    "\n",
    "    # Z-Axis (out of the screen) drawn in blue\n",
    "    x3 = size * (sin(yaw)) + tdx\n",
    "    y3 = size * (-cos(yaw) * sin(pitch)) + tdy\n",
    "    img = cv2.cvtColor(img, cv2.COLOR_BGR2RGB)\n",
    "    cv2.putText(img, str((round(pitch * 180 / np.pi, 3), round(yaw * 180 / np.pi, 3), round(roll * 180 / np.pi, 3))), (int(100),int(200)), cv2.FONT_HERSHEY_SIMPLEX, 1, (255,0,0), 5)\n",
    "    cv2.line(img, (int(tdx), int(tdy)), (int(x1),int(y1)),(0,0,255),3)\n",
    "    cv2.line(img, (int(tdx), int(tdy)), (int(x2),int(y2)),(0,255,0),3)\n",
    "    cv2.line(img, (int(tdx), int(tdy)), (int(x3),int(y3)),(255,0,0),2)\n",
    "\n",
    "    return img\n",
    "\n",
    "\n",
    "my_path = str(Path(r\".\\my_img_1.jpg\"))\n",
    "pose = get_face_points(my_path)\n",
    "print(pose.shape)\n",
    "\n",
    "angle = loaded_model.predict(pose)\n",
    "print(angle)\n",
    "\n",
    "image = cv2.imread(my_path)\n",
    "pitch = angle[0,0]\n",
    "yow = angle[0,1]\n",
    "roll = angle[0,2]\n",
    "plt.imshow(draw_axis(image,pitch,yow,roll))\n"
   ]
  },
  {
   "cell_type": "markdown",
   "metadata": {},
   "source": [
    "## 12- Use WebCam :"
   ]
  },
  {
   "cell_type": "code",
   "execution_count": 14,
   "metadata": {},
   "outputs": [],
   "source": [
    "mp_face_detection = mp.solutions.face_detection\n",
    "mp_face_mesh = mp.solutions.face_mesh\n",
    "\n",
    "face_detection = mp_face_detection.FaceDetection()\n",
    "face_mesh = mp_face_mesh.FaceMesh()\n",
    "\n",
    "cap = cv2.VideoCapture(0)\n",
    "\n",
    "def draw_lines(image, pitch, yaw, roll, tdx=None, tdy=None, size=100):\n",
    "    yaw = -yaw\n",
    "    if tdx is None and tdy is None:\n",
    "        height, width = image.shape[:2]\n",
    "        tdx = width / 8\n",
    "        tdy = height / 8\n",
    "\n",
    "    # X-Axis pointing to right. drawn in red\n",
    "    x1 = size * (cos(yaw) * cos(roll)) + tdx\n",
    "    y1 = size * (cos(pitch) * sin(roll) + cos(roll) * sin(pitch) * sin(yaw)) + tdy\n",
    "\n",
    "    # Y-Axis | drawn in green\n",
    "    #        v\n",
    "    x2 = size * (-cos(yaw) * sin(roll)) + tdx\n",
    "    y2 = size * (cos(pitch) * cos(roll) - sin(pitch) * sin(yaw) * sin(roll)) + tdy\n",
    "\n",
    "    # Z-Axis (out of the screen) drawn in blue\n",
    "    x3 = size * (sin(yaw)) + tdx\n",
    "    y3 = size * (-cos(yaw) * sin(pitch)) + tdy\n",
    "\n",
    "    # Convert float coordinates to integers\n",
    "    pt1 = (int(tdx), int(tdy))\n",
    "    pt2_x1_y1 = (int(x1), int(y1))\n",
    "    pt2_x2_y2 = (int(x2), int(y2))\n",
    "    pt2_x3_y3 = (int(x3), int(y3))\n",
    "    # Draw lines\n",
    "    cv2.putText(image, str((round(pitch * 180 / np.pi, 3), round(yaw * 180 / np.pi, 3), round(roll * 180 / np.pi, 3))), (int(10),int(30)), cv2.FONT_HERSHEY_SIMPLEX, 1, (0,0,255), 5)\n",
    "    cv2.line(image, pt1, pt2_x1_y1, (0, 0, 255), 3)  # X-Axis (Red)\n",
    "    cv2.line(image, pt1, pt2_x2_y2, (0, 255, 0), 3)  # Y-Axis (Green)\n",
    "    cv2.line(image, pt1, pt2_x3_y3, (255, 0, 0), 2)  # Z-Axis (Blue)\n",
    "\n",
    "while cap.isOpened():\n",
    "\n",
    "# Fit the scaler to your data and transform it\n",
    "    \n",
    "    ret, frame = cap.read()\n",
    "    if not ret:\n",
    "        break\n",
    "\n",
    "    # Resize the frame to 450x450\n",
    "    # frame = cv2.resize(frame, (450, 450))\n",
    "\n",
    "    # Convert the image to RGB\n",
    "    frame_rgb = cv2.cvtColor(frame, cv2.COLOR_BGR2RGB)\n",
    "    # Face detection\n",
    "    result_detection = face_detection.process(frame_rgb)\n",
    "\n",
    "    if result_detection.detections:\n",
    "        for detection in result_detection.detections:\n",
    "            bboxC = detection.location_data.relative_bounding_box\n",
    "            ih, iw, _ = frame.shape\n",
    "            bbox = int(bboxC.xmin * iw), int(bboxC.ymin * ih), \\\n",
    "                   int(bboxC.width * iw), int(bboxC.height * ih)\n",
    "            cv2.rectangle(frame, bbox, (255, 0, 255), 2)\n",
    "\n",
    "    # Face landmark detection\n",
    "    result_landmarks = face_mesh.process(frame_rgb)\n",
    "\n",
    "    if result_landmarks.multi_face_landmarks:\n",
    "        for face_landmarks in result_landmarks.multi_face_landmarks:\n",
    "            landmarks = []\n",
    "            for lm in face_landmarks.landmark:\n",
    "                # x_0, y_0 = int(lm.x * iw), int(lm.y * ih)\n",
    "                x, y = (lm.x), (lm.y)\n",
    "                landmarks.append([x, y])\n",
    "                # cv2.circle(frame, (x, y), 2, (0, 255, 255), -1)\n",
    "            \n",
    "            # Convert landmarks to NumPy array\n",
    "            landmarks_np = np.array(landmarks)\n",
    "\n",
    "            # Output the NumPy matrix\n",
    "            # print(\"Facial Landmarks Matrix:\")\n",
    "            # print(landmarks_np)\n",
    "            x = landmarks_np[:, 0].reshape((1,-1))\n",
    "            y = landmarks_np[:, 1].reshape((1,-1))\n",
    "            x_y = np.hstack((x, y))        \n",
    "            x = x_y[:, :468]\n",
    "            y = x_y[:, 468:]\n",
    "            x_normalized = x / np.max(x, axis=1)[:, np.newaxis]\n",
    "            y_normalized = y / np.max(y, axis=1)[:, np.newaxis]\n",
    "            x_y = np.hstack((x_normalized, y_normalized))\n",
    "            angle = loaded_model.predict(x_y)\n",
    "            pitch = angle[0,0]\n",
    "            yaw = angle[0,1]\n",
    "            roll = angle[0,2]\n",
    "            draw_lines(frame, pitch, yaw, roll, tdx=x[0,168]*iw, tdy=y[0,168]*ih, size=100)\n",
    "\n",
    "    # Display the frame\n",
    "    cv2.imshow('Face Detection and Landmarks', frame)\n",
    "\n",
    "    if cv2.waitKey(1) & 0xFF == ord('q'):\n",
    "        break\n",
    "\n",
    "face_detection.close()\n",
    "face_mesh.close()\n",
    "cap.release()\n",
    "cv2.destroyAllWindows()\n"
   ]
  },
  {
   "cell_type": "markdown",
   "metadata": {},
   "source": [
    "## 13- Making Video :"
   ]
  },
  {
   "cell_type": "code",
   "execution_count": null,
   "metadata": {},
   "outputs": [],
   "source": [
    "pip install moviepy\n"
   ]
  },
  {
   "cell_type": "code",
   "execution_count": null,
   "metadata": {},
   "outputs": [],
   "source": [
    "pip install pydub"
   ]
  },
  {
   "cell_type": "code",
   "execution_count": 1,
   "metadata": {},
   "outputs": [],
   "source": [
    "pip install ffpyplayer"
   ]
  },
  {
   "cell_type": "code",
   "execution_count": 24,
   "metadata": {},
   "outputs": [],
   "source": [
    "# from ffpyplayer.player import MediaPlayer\n",
    "# video_path = \"D:\\ITI_Schoolarship\\ML_Supervised\\Project\\my_vid_0.mp4\"  # Replace with the path to your video file\n",
    "# def PlayVideo(video_path):\n",
    "#     video=cv2.VideoCapture(video_path)\n",
    "#     player = MediaPlayer(video_path)\n",
    "#     while True:\n",
    "#         grabbed, frame=video.read()\n",
    "#         audio_frame, val = player.get_frame()\n",
    "#         if not grabbed:\n",
    "#             print(\"End of video\")\n",
    "#             break\n",
    "#         if cv2.waitKey(28) & 0xFF == ord(\"q\"):\n",
    "#             break\n",
    "#         cv2.imshow(\"Video\", frame)\n",
    "#         if val != 'eof' and audio_frame is not None:\n",
    "#             #audio\n",
    "#             img, t = audio_frame\n",
    "#     video.release()\n",
    "#     cv2.destroyAllWindows()\n",
    "# PlayVideo(video_path)"
   ]
  },
  {
   "cell_type": "code",
   "execution_count": 15,
   "metadata": {},
   "outputs": [],
   "source": [
    "# Open the video file\n",
    "video_path = \".\\my_vid_1.mp4\" \n",
    "cap = cv2.VideoCapture(video_path)\n",
    "\n",
    "mp_face_detection = mp.solutions.face_detection\n",
    "mp_face_mesh = mp.solutions.face_mesh\n",
    "\n",
    "face_detection = mp_face_detection.FaceDetection()\n",
    "face_mesh = mp_face_mesh.FaceMesh()\n",
    "\n",
    "# Define the codec and create VideoWriter object\n",
    "fourcc = cv2.VideoWriter_fourcc(*'XVID')\n",
    "output_video_path = \"output_video_1.avi\"\n",
    "output_video = cv2.VideoWriter(output_video_path, fourcc, 30.0, (int(cap.get(3)), int(cap.get(4))))\n",
    "\n",
    "while cap.isOpened():\n",
    "    ret, frame = cap.read()\n",
    "    if not ret:\n",
    "        break\n",
    "\n",
    "    # Convert the image to RGB\n",
    "    frame_rgb = cv2.cvtColor(frame, cv2.COLOR_BGR2RGB)\n",
    "    # Face detection\n",
    "    result_detection = face_detection.process(frame_rgb)\n",
    "\n",
    "    if result_detection.detections:\n",
    "        for detection in result_detection.detections:\n",
    "            bboxC = detection.location_data.relative_bounding_box\n",
    "            ih, iw, _ = frame.shape\n",
    "            bbox = int(bboxC.xmin * iw), int(bboxC.ymin * ih), \\\n",
    "                   int(bboxC.width * iw), int(bboxC.height * ih)\n",
    "            cv2.rectangle(frame, bbox, (255, 0, 255), 2)\n",
    "\n",
    "    # Face landmark detection\n",
    "    result_landmarks = face_mesh.process(frame_rgb)\n",
    "\n",
    "    if result_landmarks.multi_face_landmarks:\n",
    "        for face_landmarks in result_landmarks.multi_face_landmarks:\n",
    "            landmarks = []\n",
    "            for lm in face_landmarks.landmark:\n",
    "                x, y = (lm.x), (lm.y)\n",
    "                landmarks.append([x, y])\n",
    "            \n",
    "            # Convert landmarks to NumPy array\n",
    "            landmarks_np = np.array(landmarks)\n",
    "\n",
    "            # Output the NumPy matrix\n",
    "            x = landmarks_np[:, 0].reshape((1,-1))\n",
    "            y = landmarks_np[:, 1].reshape((1,-1))\n",
    "            x_y = np.hstack((x, y))        \n",
    "            x = x_y[:, :468]\n",
    "            y = x_y[:, 468:]\n",
    "            x_normalized = x / np.max(x, axis=1)[:, np.newaxis]\n",
    "            y_normalized = y / np.max(y, axis=1)[:, np.newaxis]\n",
    "            x_y = np.hstack((x_normalized, y_normalized))\n",
    "            angles = loaded_model.predict(x_y)\n",
    "            pitch = angles[0,0]\n",
    "            yaw = angles[0,1]\n",
    "            roll = angles[0,2]\n",
    "            draw_lines(frame, pitch, yaw, roll, tdx=x[0,168]*iw, tdy=y[0,168]*ih, size=100)\n",
    "\n",
    "    # Write the frame into the output video\n",
    "    output_video.write(frame)\n",
    "\n",
    "    # Display the frame\n",
    "    cv2.imshow('Face Detection and Landmarks', frame)\n",
    "\n",
    "    if cv2.waitKey(10) & 0xFF == ord('q'):\n",
    "        break\n",
    "\n",
    "# Release everything if job is finished\n",
    "face_detection.close()\n",
    "face_mesh.close()\n",
    "cap.release()\n",
    "output_video.release()\n",
    "cv2.destroyAllWindows()\n"
   ]
  },
  {
   "cell_type": "markdown",
   "metadata": {},
   "source": [
    "## ***(ADDITIONAL) 14- Trying to make PCA and retrain the models*** 🤷‍♂️🤷‍♂️😎"
   ]
  },
  {
   "cell_type": "markdown",
   "metadata": {},
   "source": [
    "## **Selecting 7 PCs**"
   ]
  },
  {
   "cell_type": "code",
   "execution_count": 51,
   "metadata": {},
   "outputs": [
    {
     "name": "stdout",
     "output_type": "stream",
     "text": [
      "[0.57640872 0.18378199 0.16572729 0.03078511 0.0165338  0.01340321\n",
      " 0.0042376 ]\n",
      "[72.25935704 40.80189171 38.74590772 16.69933543 12.23813345 11.01877289\n",
      "  6.19568083]\n"
     ]
    }
   ],
   "source": [
    "from sklearn.decomposition import PCA\n",
    "pca = PCA(n_components=7)\n",
    "pca_data = pca.fit(features)\n",
    "print(pca.explained_variance_ratio_)\n",
    "print(pca.singular_values_)"
   ]
  },
  {
   "cell_type": "code",
   "execution_count": 52,
   "metadata": {},
   "outputs": [
    {
     "data": {
      "text/plain": [
       "array([0.57640872, 0.76019071, 0.925918  , 0.95670312, 0.97323692,\n",
       "       0.98664013, 0.99087773])"
      ]
     },
     "execution_count": 52,
     "metadata": {},
     "output_type": "execute_result"
    }
   ],
   "source": [
    "np.cumsum(pca.explained_variance_ratio_)"
   ]
  },
  {
   "cell_type": "markdown",
   "metadata": {},
   "source": [
    "## **Preparing the new Data for Training**"
   ]
  },
  {
   "cell_type": "code",
   "execution_count": 53,
   "metadata": {},
   "outputs": [
    {
     "data": {
      "text/html": [
       "<div>\n",
       "<style scoped>\n",
       "    .dataframe tbody tr th:only-of-type {\n",
       "        vertical-align: middle;\n",
       "    }\n",
       "\n",
       "    .dataframe tbody tr th {\n",
       "        vertical-align: top;\n",
       "    }\n",
       "\n",
       "    .dataframe thead th {\n",
       "        text-align: right;\n",
       "    }\n",
       "</style>\n",
       "<table border=\"1\" class=\"dataframe\">\n",
       "  <thead>\n",
       "    <tr style=\"text-align: right;\">\n",
       "      <th></th>\n",
       "      <th>0</th>\n",
       "      <th>1</th>\n",
       "      <th>2</th>\n",
       "      <th>3</th>\n",
       "      <th>4</th>\n",
       "      <th>5</th>\n",
       "      <th>6</th>\n",
       "    </tr>\n",
       "  </thead>\n",
       "  <tbody>\n",
       "    <tr>\n",
       "      <th>0</th>\n",
       "      <td>-1.226473</td>\n",
       "      <td>0.100458</td>\n",
       "      <td>-0.812114</td>\n",
       "      <td>-0.282140</td>\n",
       "      <td>0.247446</td>\n",
       "      <td>0.128332</td>\n",
       "      <td>0.150060</td>\n",
       "    </tr>\n",
       "    <tr>\n",
       "      <th>1</th>\n",
       "      <td>-1.137065</td>\n",
       "      <td>1.089839</td>\n",
       "      <td>1.670348</td>\n",
       "      <td>-0.065922</td>\n",
       "      <td>0.035209</td>\n",
       "      <td>-0.302157</td>\n",
       "      <td>-0.126010</td>\n",
       "    </tr>\n",
       "    <tr>\n",
       "      <th>2</th>\n",
       "      <td>2.078620</td>\n",
       "      <td>1.024301</td>\n",
       "      <td>1.953163</td>\n",
       "      <td>-1.607259</td>\n",
       "      <td>-1.525192</td>\n",
       "      <td>0.832698</td>\n",
       "      <td>-0.188718</td>\n",
       "    </tr>\n",
       "    <tr>\n",
       "      <th>3</th>\n",
       "      <td>-0.869781</td>\n",
       "      <td>-0.903895</td>\n",
       "      <td>0.944370</td>\n",
       "      <td>-0.458550</td>\n",
       "      <td>0.095660</td>\n",
       "      <td>0.196608</td>\n",
       "      <td>0.129002</td>\n",
       "    </tr>\n",
       "    <tr>\n",
       "      <th>4</th>\n",
       "      <td>-0.428547</td>\n",
       "      <td>-0.897762</td>\n",
       "      <td>0.028711</td>\n",
       "      <td>0.163752</td>\n",
       "      <td>-0.063158</td>\n",
       "      <td>-0.099074</td>\n",
       "      <td>-0.040671</td>\n",
       "    </tr>\n",
       "    <tr>\n",
       "      <th>...</th>\n",
       "      <td>...</td>\n",
       "      <td>...</td>\n",
       "      <td>...</td>\n",
       "      <td>...</td>\n",
       "      <td>...</td>\n",
       "      <td>...</td>\n",
       "      <td>...</td>\n",
       "    </tr>\n",
       "    <tr>\n",
       "      <th>1848</th>\n",
       "      <td>1.048430</td>\n",
       "      <td>-0.078528</td>\n",
       "      <td>-0.604151</td>\n",
       "      <td>-0.477774</td>\n",
       "      <td>-0.125789</td>\n",
       "      <td>0.094521</td>\n",
       "      <td>-0.034432</td>\n",
       "    </tr>\n",
       "    <tr>\n",
       "      <th>1849</th>\n",
       "      <td>1.083157</td>\n",
       "      <td>0.046944</td>\n",
       "      <td>-0.816909</td>\n",
       "      <td>-0.218045</td>\n",
       "      <td>0.207874</td>\n",
       "      <td>-0.091932</td>\n",
       "      <td>0.121430</td>\n",
       "    </tr>\n",
       "    <tr>\n",
       "      <th>1850</th>\n",
       "      <td>1.033658</td>\n",
       "      <td>1.070727</td>\n",
       "      <td>-0.174536</td>\n",
       "      <td>0.132730</td>\n",
       "      <td>0.015642</td>\n",
       "      <td>-0.302070</td>\n",
       "      <td>0.235231</td>\n",
       "    </tr>\n",
       "    <tr>\n",
       "      <th>1851</th>\n",
       "      <td>-0.964226</td>\n",
       "      <td>0.164257</td>\n",
       "      <td>-0.874545</td>\n",
       "      <td>-0.430470</td>\n",
       "      <td>0.103865</td>\n",
       "      <td>0.184215</td>\n",
       "      <td>-0.068298</td>\n",
       "    </tr>\n",
       "    <tr>\n",
       "      <th>1852</th>\n",
       "      <td>0.292723</td>\n",
       "      <td>-0.247767</td>\n",
       "      <td>-0.465089</td>\n",
       "      <td>0.002009</td>\n",
       "      <td>-0.084808</td>\n",
       "      <td>-0.291142</td>\n",
       "      <td>-0.023909</td>\n",
       "    </tr>\n",
       "  </tbody>\n",
       "</table>\n",
       "<p>1853 rows × 7 columns</p>\n",
       "</div>"
      ],
      "text/plain": [
       "             0         1         2         3         4         5         6\n",
       "0    -1.226473  0.100458 -0.812114 -0.282140  0.247446  0.128332  0.150060\n",
       "1    -1.137065  1.089839  1.670348 -0.065922  0.035209 -0.302157 -0.126010\n",
       "2     2.078620  1.024301  1.953163 -1.607259 -1.525192  0.832698 -0.188718\n",
       "3    -0.869781 -0.903895  0.944370 -0.458550  0.095660  0.196608  0.129002\n",
       "4    -0.428547 -0.897762  0.028711  0.163752 -0.063158 -0.099074 -0.040671\n",
       "...        ...       ...       ...       ...       ...       ...       ...\n",
       "1848  1.048430 -0.078528 -0.604151 -0.477774 -0.125789  0.094521 -0.034432\n",
       "1849  1.083157  0.046944 -0.816909 -0.218045  0.207874 -0.091932  0.121430\n",
       "1850  1.033658  1.070727 -0.174536  0.132730  0.015642 -0.302070  0.235231\n",
       "1851 -0.964226  0.164257 -0.874545 -0.430470  0.103865  0.184215 -0.068298\n",
       "1852  0.292723 -0.247767 -0.465089  0.002009 -0.084808 -0.291142 -0.023909\n",
       "\n",
       "[1853 rows x 7 columns]"
      ]
     },
     "execution_count": 53,
     "metadata": {},
     "output_type": "execute_result"
    }
   ],
   "source": [
    "new_data = pca.transform(features)\n",
    "new_data = pd.DataFrame(new_data)\n",
    "new_data"
   ]
  },
  {
   "cell_type": "markdown",
   "metadata": {},
   "source": [
    "## **Train the new models**"
   ]
  },
  {
   "cell_type": "code",
   "execution_count": 54,
   "metadata": {},
   "outputs": [
    {
     "name": "stdout",
     "output_type": "stream",
     "text": [
      "labels_train.shape =  (1111, 3)\n",
      "labels_validation.shape =  (371, 3)\n",
      "==================================================\n",
      "LR model : \n",
      "Train :  0.45740843667876846\n",
      "Validation :  0.5622147490753653\n",
      "==================================================\n",
      "LR model Lasso: \n",
      "Train :  0.45714032064324744\n",
      "Validation :  0.563364268831633\n",
      "==================================================\n",
      "LR model Ridge: \n",
      "Train :  0.45740843653954455\n",
      "Validation :  0.5622153654771552\n",
      "==================================================\n",
      "Elastic Net model : \n",
      "Train :  0.4573955091805968\n",
      "Validation :  0.5624269435441395\n",
      "==================================================\n",
      "Random Forest model : \n",
      "Train :  0.901649220304504\n",
      "Validation :  0.6033326792270455\n",
      "==================================================\n",
      "Decision Tree model : \n",
      "Train :  0.48987964131819695\n",
      "Validation :  0.4640799157238547\n"
     ]
    }
   ],
   "source": [
    "from sklearn import linear_model\n",
    "from sklearn.linear_model import Ridge\n",
    "from sklearn.linear_model import LinearRegression\n",
    "from sklearn.linear_model import ElasticNet\n",
    "from sklearn.model_selection import train_test_split\n",
    "from sklearn.ensemble import RandomForestRegressor\n",
    "from sklearn.tree import DecisionTreeRegressor\n",
    "\n",
    "\n",
    "new_features = new_data\n",
    "r_seed = 99\n",
    "\n",
    "features_train, features_validation_test, labels_train, labels_validation_test = train_test_split(new_features, labels, test_size=0.4, random_state=r_seed)\n",
    "features_validation, features_test, labels_validation, labels_test = train_test_split(features_validation_test, labels_validation_test, test_size=0.5, random_state=r_seed)\n",
    "\n",
    "\n",
    "print('labels_train.shape = ', labels_train.shape)\n",
    "print('labels_validation.shape = ', labels_validation.shape)\n",
    "print('=' * 50)\n",
    "\n",
    "## LR ##\n",
    "LR_PC7 = LinearRegression()\n",
    "LR_PC7.fit(features_train, labels_train)\n",
    "\n",
    "## LinearRegression Lasso ##\n",
    "reg_PC7 = linear_model.Lasso(alpha=0.001)\n",
    "reg_PC7.fit(features_train, labels_train)\n",
    "\n",
    "## LinearRegression Ridge ##\n",
    "ridge_reg_PC7 = Ridge(alpha=0.002)  \n",
    "ridge_reg_PC7.fit(features_train, labels_train)\n",
    "\n",
    "## ElasticNet Model ##\n",
    "alpha = 0.0005  # regularization strength\n",
    "l1_ratio = 0.1  # mixing parameter for L1 and L2 penalties\n",
    "elastic_net_PC7 = ElasticNet(alpha=alpha, l1_ratio=l1_ratio, random_state=r_seed)\n",
    "elastic_net_PC7.fit(features_train, labels_train)\n",
    "\n",
    "## Random Forest ##\n",
    "random_forest_reg_PC7 = RandomForestRegressor(n_estimators=100, max_depth=20, n_jobs=-1, random_state=r_seed)\n",
    "random_forest_reg_PC7.fit(features_train, labels_train)\n",
    "\n",
    "## Decision Tree ##\n",
    "dt_regressor_PC7 = DecisionTreeRegressor(max_depth=300, min_samples_split=20, min_samples_leaf=10, random_state=r_seed)\n",
    "dt_regressor_PC7.fit(features_train, labels_train)\n",
    "\n",
    "\n",
    "print('LR model : ')\n",
    "print('Train : ', LR_PC7.score(features_train, labels_train))\n",
    "print('Validation : ', LR_PC7.score(features_validation, labels_validation))\n",
    "print('=' * 50)\n",
    "print('LR model Lasso: ')\n",
    "print('Train : ', reg_PC7.score(features_train, labels_train))\n",
    "print('Validation : ', reg_PC7.score(features_validation, labels_validation))\n",
    "print('=' * 50)\n",
    "print('LR model Ridge: ')\n",
    "print('Train : ', ridge_reg_PC7.score(features_train, labels_train))\n",
    "print('Validation : ', ridge_reg_PC7.score(features_validation, labels_validation))\n",
    "print('=' * 50)\n",
    "print('Elastic Net model : ')\n",
    "print('Train : ', elastic_net_PC7.score(features_train, labels_train))\n",
    "print('Validation : ', elastic_net_PC7.score(features_validation, labels_validation))\n",
    "print('=' * 50)\n",
    "print('Random Forest model : ')\n",
    "print('Train : ', random_forest_reg_PC7.score(features_train, labels_train))\n",
    "print('Validation : ', random_forest_reg_PC7.score(features_validation, labels_validation))\n",
    "print('=' * 50)\n",
    "print('Decision Tree model : ')\n",
    "print('Train : ', dt_regressor_PC7.score(features_train, labels_train))\n",
    "print('Validation : ', dt_regressor_PC7.score(features_validation, labels_validation))"
   ]
  },
  {
   "cell_type": "code",
   "execution_count": 55,
   "metadata": {},
   "outputs": [
    {
     "name": "stdout",
     "output_type": "stream",
     "text": [
      "LR model : \n",
      "Test :  0.3506605654560661\n",
      "==================================================\n",
      "LR model Lasso: \n",
      "Test :  0.35063377773036447\n",
      "==================================================\n",
      "LR model Ridge: \n",
      "Test :  0.35066080357037444\n",
      "==================================================\n",
      "Elastic Net model : \n",
      "Test :  0.3507202431768091\n",
      "==================================================\n",
      "Random Forest model : \n",
      "Test :  0.31360194441355205\n",
      "==================================================\n",
      "Decision Tree model : \n",
      "Test :  0.27078951735450824\n"
     ]
    }
   ],
   "source": [
    "print('LR model : ')\n",
    "print('Test : ', LR_PC7.score(features_test, labels_test))\n",
    "print('=' * 50)\n",
    "print('LR model Lasso: ')\n",
    "print('Test : ', reg_PC7.score(features_test, labels_test))\n",
    "print('=' * 50)\n",
    "print('LR model Ridge: ')\n",
    "print('Test : ', ridge_reg_PC7.score(features_test, labels_test))\n",
    "print('=' * 50)\n",
    "print('Elastic Net model : ')\n",
    "print('Test : ', elastic_net_PC7.score(features_test, labels_test))\n",
    "print('=' * 50)\n",
    "print('Random Forest model : ')\n",
    "print('Test : ', random_forest_reg_PC7.score(features_test, labels_test))\n",
    "print('=' * 50)\n",
    "print('Decision Tree model : ')\n",
    "print('Test : ', dt_regressor_PC7.score(features_test, labels_test))"
   ]
  },
  {
   "cell_type": "markdown",
   "metadata": {},
   "source": [
    "## **Save The models :**"
   ]
  },
  {
   "cell_type": "code",
   "execution_count": 61,
   "metadata": {},
   "outputs": [
    {
     "data": {
      "text/plain": [
       "['dt_regressor_PC7.pkl']"
      ]
     },
     "execution_count": 61,
     "metadata": {},
     "output_type": "execute_result"
    }
   ],
   "source": [
    "import joblib\n",
    "joblib.dump(LR_PC7, 'LR_model_PC7.pkl')\n",
    "joblib.dump(ridge_reg_PC7, 'ridge_reg_PC7.pkl')\n",
    "joblib.dump(elastic_net_PC7, 'elastic_net_PC7.pkl')\n",
    "joblib.dump(random_forest_reg_PC7, 'random_forest_reg_PC7.pkl')\n",
    "joblib.dump(dt_regressor_PC7, 'dt_regressor_PC7.pkl')"
   ]
  },
  {
   "cell_type": "code",
   "execution_count": 42,
   "metadata": {},
   "outputs": [
    {
     "name": "stdout",
     "output_type": "stream",
     "text": [
      "Average Train Scores:\n",
      "LR: 0.6900143216986422\n",
      "Lasso: 0.6894478643190406\n",
      "Ridge: 0.6900143210974826\n",
      "Elastic Net: 0.6876731453989371\n",
      "Random Forest: 0.9437001060736161\n",
      "Decision Tree: 0.766415908733869\n",
      "==================================================\n",
      "Average Validation Scores:\n",
      "LR: 0.6524705650718399\n",
      "Lasso: 0.6547709730256154\n",
      "Ridge: 0.6524720840668137\n",
      "Elastic Net: 0.6538575086472507\n",
      "Random Forest: 0.6019510063150373\n",
      "Decision Tree: 0.4288786544382665\n"
     ]
    }
   ],
   "source": [
    "from sklearn.model_selection import KFold\n",
    "\n",
    "# Define the number of folds\n",
    "n_splits = 5  # You can adjust the number of folds as needed\n",
    "\n",
    "# Create KFold instance\n",
    "kf = KFold(n_splits=n_splits, shuffle=True, random_state=r_seed)\n",
    "\n",
    "# Initialize lists to store scores\n",
    "# (you may need to adjust these based on your specific metrics)\n",
    "LR_train_scores = []\n",
    "LR_val_scores = []\n",
    "lasso_train_scores = []\n",
    "lasso_val_scores = []\n",
    "ridge_train_scores = []\n",
    "ridge_val_scores = []\n",
    "elastic_net_train_scores = []\n",
    "elastic_net_val_scores = []\n",
    "random_forest_train_scores = []\n",
    "random_forest_val_scores = []\n",
    "dt_train_scores = []\n",
    "dt_val_scores = []\n",
    "\n",
    "# Loop over the folds\n",
    "for train_index, val_index in kf.split(new_features):\n",
    "    features_train, features_validation = new_features.iloc[train_index], new_features.iloc[val_index]\n",
    "    labels_train, labels_validation = labels[train_index], labels[val_index]\n",
    "    \n",
    "\n",
    "# Loop over the folds\n",
    "for train_index, val_index in kf.split(new_features, labels):\n",
    "    features_train, features_validation = new_features.iloc[train_index], new_features.iloc[val_index]\n",
    "    labels_train, labels_validation = labels[train_index], labels[val_index]\n",
    "    \n",
    "    ## LR ##\n",
    "    LR_PC7 = LinearRegression()\n",
    "    LR_PC7.fit(features_train, labels_train)\n",
    "    LR_train_scores.append(LR_PC7.score(features_train, labels_train))\n",
    "    LR_val_scores.append(LR_PC7.score(features_validation, labels_validation))\n",
    "\n",
    "    ## LinearRegression Lasso ##\n",
    "    reg_PC7 = linear_model.Lasso(alpha=0.001)\n",
    "    reg_PC7.fit(features_train, labels_train)\n",
    "    lasso_train_scores.append(reg_PC7.score(features_train, labels_train))\n",
    "    lasso_val_scores.append(reg_PC7.score(features_validation, labels_validation))\n",
    "\n",
    "    ## LinearRegression Ridge ##\n",
    "    ridge_reg_PC7 = Ridge(alpha=0.002)\n",
    "    ridge_reg_PC7.fit(features_train, labels_train)\n",
    "    ridge_train_scores.append(ridge_reg_PC7.score(features_train, labels_train))\n",
    "    ridge_val_scores.append(ridge_reg_PC7.score(features_validation, labels_validation))\n",
    "\n",
    "    ## ElasticNet Model ##\n",
    "    alpha = 0.005  # regularization strength\n",
    "    l1_ratio = 0.1  # mixing parameter for L1 and L2 penalties\n",
    "    elastic_net_PC7 = ElasticNet(alpha=alpha, l1_ratio=l1_ratio, random_state=r_seed)\n",
    "    elastic_net_PC7.fit(features_train, labels_train)\n",
    "    elastic_net_train_scores.append(elastic_net_PC7.score(features_train, labels_train))\n",
    "    elastic_net_val_scores.append(elastic_net_PC7.score(features_validation, labels_validation))\n",
    "\n",
    "    ## Random Forest ##\n",
    "    random_forest_reg_PC7 = RandomForestRegressor(n_estimators=100, max_depth=20, n_jobs=-1, random_state=r_seed)\n",
    "    random_forest_reg_PC7.fit(features_train, labels_train)\n",
    "    random_forest_train_scores.append(random_forest_reg_PC7.score(features_train, labels_train))\n",
    "    random_forest_val_scores.append(random_forest_reg_PC7.score(features_validation, labels_validation))\n",
    "\n",
    "    ## Decision Tree ##\n",
    "    dt_regressor_PC7 = DecisionTreeRegressor(max_depth=300, min_samples_split=5, min_samples_leaf=5, random_state=r_seed)\n",
    "    dt_regressor_PC7.fit(features_train, labels_train)\n",
    "    dt_train_scores.append(dt_regressor_PC7.score(features_train, labels_train))\n",
    "    dt_val_scores.append(dt_regressor_PC7.score(features_validation, labels_validation))\n",
    "\n",
    "# Print average scores\n",
    "print('Average Train Scores:')\n",
    "print('LR:', np.mean(LR_train_scores))\n",
    "print('Lasso:', np.mean(lasso_train_scores))\n",
    "print('Ridge:', np.mean(ridge_train_scores))\n",
    "print('Elastic Net:', np.mean(elastic_net_train_scores))\n",
    "print('Random Forest:', np.mean(random_forest_train_scores))\n",
    "print('Decision Tree:', np.mean(dt_train_scores))\n",
    "print('=' * 50)\n",
    "print('Average Validation Scores:')\n",
    "print('LR:', np.mean(LR_val_scores))\n",
    "print('Lasso:', np.mean(lasso_val_scores))\n",
    "print('Ridge:', np.mean(ridge_val_scores))\n",
    "print('Elastic Net:', np.mean(elastic_net_val_scores))\n",
    "print('Random Forest:', np.mean(random_forest_val_scores))\n",
    "print('Decision Tree:', np.mean(dt_val_scores))\n"
   ]
  },
  {
   "cell_type": "code",
   "execution_count": 56,
   "metadata": {},
   "outputs": [],
   "source": [
    "mp_face_detection = mp.solutions.face_detection\n",
    "mp_face_mesh = mp.solutions.face_mesh\n",
    "\n",
    "face_detection = mp_face_detection.FaceDetection()\n",
    "face_mesh = mp_face_mesh.FaceMesh()\n",
    "\n",
    "cap = cv2.VideoCapture(0)\n",
    "\n",
    "while cap.isOpened():\n",
    "    ret, frame = cap.read()\n",
    "    if not ret:\n",
    "        break\n",
    "\n",
    "    # Convert the image to RGB\n",
    "    frame_rgb = cv2.cvtColor(frame, cv2.COLOR_BGR2RGB)\n",
    "    # Face detection\n",
    "    result_detection = face_detection.process(frame_rgb)\n",
    "\n",
    "    if result_detection.detections:\n",
    "        for detection in result_detection.detections:\n",
    "            bboxC = detection.location_data.relative_bounding_box\n",
    "            ih, iw, _ = frame.shape\n",
    "            bbox = int(bboxC.xmin * iw), int(bboxC.ymin * ih), \\\n",
    "                   int(bboxC.width * iw), int(bboxC.height * ih)\n",
    "            cv2.rectangle(frame, bbox, (255, 0, 255), 2)\n",
    "\n",
    "    # Face landmark detection\n",
    "    result_landmarks = face_mesh.process(frame_rgb)\n",
    "\n",
    "    if result_landmarks.multi_face_landmarks:\n",
    "        for face_landmarks in result_landmarks.multi_face_landmarks:\n",
    "            landmarks = []\n",
    "            for lm in face_landmarks.landmark:\n",
    "                # x_0, y_0 = int(lm.x * iw), int(lm.y * ih)\n",
    "                x, y = (lm.x), (lm.y)\n",
    "                landmarks.append([x, y])\n",
    "                # cv2.circle(frame, (x, y), 2, (0, 255, 255), -1)\n",
    "            \n",
    "            # Convert landmarks to NumPy array\n",
    "            landmarks_np = np.array(landmarks)\n",
    "\n",
    "            # Output the NumPy matrix\n",
    "            # print(\"Facial Landmarks Matrix:\")\n",
    "            # print(landmarks_np)\n",
    "            x = landmarks_np[:, 0].reshape((1,-1))\n",
    "            y = landmarks_np[:, 1].reshape((1,-1))\n",
    "            x_y = np.hstack((x, y))        \n",
    "            x = x_y[:, :468]\n",
    "            y = x_y[:, 468:]\n",
    "            x_normalized = x / np.max(x, axis=1)[:, np.newaxis]\n",
    "            y_normalized = y / np.max(y, axis=1)[:, np.newaxis]\n",
    "            x_y = np.hstack((x_normalized, y_normalized))\n",
    "            new_x_y = pca.transform(x_y)\n",
    "            angles_PC7 = LR_PC7.predict(new_x_y)\n",
    "            pitch = angles_PC7[0,0]\n",
    "            yaw = angles_PC7[0,1]\n",
    "            roll = angles_PC7[0,2]\n",
    "            draw_lines(frame, pitch, yaw, roll, tdx=x[0,168]*iw, tdy=y[0,168]*ih, size=100)\n",
    "\n",
    "    # Display the frame\n",
    "    cv2.imshow('Face Detection and Landmarks', frame)\n",
    "\n",
    "    if cv2.waitKey(1) & 0xFF == ord('q'):\n",
    "        break\n",
    "\n",
    "face_detection.close()\n",
    "face_mesh.close()\n",
    "cap.release()\n",
    "cv2.destroyAllWindows()\n"
   ]
  },
  {
   "cell_type": "code",
   "execution_count": 58,
   "metadata": {},
   "outputs": [],
   "source": [
    "# Open the video file\n",
    "video_path = \".\\my_vid_1.mp4\" \n",
    "cap = cv2.VideoCapture(video_path)\n",
    "\n",
    "mp_face_detection = mp.solutions.face_detection\n",
    "mp_face_mesh = mp.solutions.face_mesh\n",
    "\n",
    "face_detection = mp_face_detection.FaceDetection()\n",
    "face_mesh = mp_face_mesh.FaceMesh()\n",
    "\n",
    "# Define the codec and create VideoWriter object\n",
    "fourcc = cv2.VideoWriter_fourcc(*'XVID')\n",
    "output_video_path = \"output_video_1.avi\"\n",
    "output_video = cv2.VideoWriter(output_video_path, fourcc, 30.0, (int(cap.get(3)), int(cap.get(4))))\n",
    "\n",
    "while cap.isOpened():\n",
    "    ret, frame = cap.read()\n",
    "    if not ret:\n",
    "        break\n",
    "\n",
    "    # Convert the image to RGB\n",
    "    frame_rgb = cv2.cvtColor(frame, cv2.COLOR_BGR2RGB)\n",
    "    # Face detection\n",
    "    result_detection = face_detection.process(frame_rgb)\n",
    "\n",
    "    if result_detection.detections:\n",
    "        for detection in result_detection.detections:\n",
    "            bboxC = detection.location_data.relative_bounding_box\n",
    "            ih, iw, _ = frame.shape\n",
    "            bbox = int(bboxC.xmin * iw), int(bboxC.ymin * ih), \\\n",
    "                   int(bboxC.width * iw), int(bboxC.height * ih)\n",
    "            cv2.rectangle(frame, bbox, (255, 0, 255), 2)\n",
    "\n",
    "    # Face landmark detection\n",
    "    result_landmarks = face_mesh.process(frame_rgb)\n",
    "\n",
    "    if result_landmarks.multi_face_landmarks:\n",
    "        for face_landmarks in result_landmarks.multi_face_landmarks:\n",
    "            landmarks = []\n",
    "            for lm in face_landmarks.landmark:\n",
    "                x, y = (lm.x), (lm.y)\n",
    "                landmarks.append([x, y])\n",
    "            \n",
    "            # Convert landmarks to NumPy array\n",
    "            landmarks_np = np.array(landmarks)\n",
    "\n",
    "            # Output the NumPy matrix\n",
    "            x = landmarks_np[:, 0].reshape((1,-1))\n",
    "            y = landmarks_np[:, 1].reshape((1,-1))\n",
    "            x_y = np.hstack((x, y))        \n",
    "            x = x_y[:, :468]\n",
    "            y = x_y[:, 468:]\n",
    "            x_normalized = x / np.max(x, axis=1)[:, np.newaxis]\n",
    "            y_normalized = y / np.max(y, axis=1)[:, np.newaxis]\n",
    "            x_y = np.hstack((x_normalized, y_normalized))            \n",
    "            new_x_y = pca.transform(x_y)\n",
    "            angles = LR_PC7.predict(new_x_y)\n",
    "            pitch = angles[0,0]\n",
    "            yaw = angles[0,1]\n",
    "            roll = angles[0,2]\n",
    "            draw_lines(frame, pitch, yaw, roll, tdx=x[0,168]*iw, tdy=y[0,168]*ih, size=100)\n",
    "\n",
    "    # Write the frame into the output video\n",
    "    output_video.write(frame)\n",
    "\n",
    "    # Display the frame\n",
    "    cv2.imshow('Face Detection and Landmarks', frame)\n",
    "\n",
    "    if cv2.waitKey(10) & 0xFF == ord('q'):\n",
    "        break\n",
    "\n",
    "# Release everything if job is finished\n",
    "face_detection.close()\n",
    "face_mesh.close()\n",
    "cap.release()\n",
    "output_video.release()\n",
    "cv2.destroyAllWindows()\n"
   ]
  }
 ],
 "metadata": {
  "kernelspec": {
   "display_name": "base",
   "language": "python",
   "name": "python3"
  },
  "language_info": {
   "codemirror_mode": {
    "name": "ipython",
    "version": 3
   },
   "file_extension": ".py",
   "mimetype": "text/x-python",
   "name": "python",
   "nbconvert_exporter": "python",
   "pygments_lexer": "ipython3",
   "version": "3.11.5"
  }
 },
 "nbformat": 4,
 "nbformat_minor": 2
}
