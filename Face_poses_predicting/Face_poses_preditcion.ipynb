{
 "cells": [
  {
   "cell_type": "markdown",
   "metadata": {},
   "source": [
    "## **ML1: Supervised ML Final Project**\n",
    "\n",
    "- **By : Mahmoud Ahmed Shawqi**\n",
    "- **Intake : 44**\n",
    "- **Track : AI**\n",
    "- **Branch : Smart Village**"
   ]
  },
  {
   "cell_type": "markdown",
   "metadata": {},
   "source": [
    "## 1- Installing mediapipe Lib"
   ]
  },
  {
   "cell_type": "code",
   "execution_count": null,
   "metadata": {},
   "outputs": [],
   "source": [
    "!pip install mediapipe"
   ]
  },
  {
   "cell_type": "markdown",
   "metadata": {},
   "source": [
    "## 2- Importing Libraries"
   ]
  },
  {
   "cell_type": "code",
   "execution_count": 1,
   "metadata": {},
   "outputs": [],
   "source": [
    "import numpy as np\n",
    "from pathlib import Path\n",
    "import os,cv2\n",
    "import scipy.io as sio\n",
    "from math import cos, sin\n",
    "from pathlib import Path\n",
    "import pandas as pd\n",
    "import mediapipe as mp\n",
    "import warnings\n",
    "import matplotlib.pyplot as plt\n",
    "warnings.filterwarnings('ignore')"
   ]
  },
  {
   "cell_type": "markdown",
   "metadata": {},
   "source": [
    "## 3- Data cleaning (Check if any image does not have **face landmarks**)"
   ]
  },
  {
   "cell_type": "code",
   "execution_count": 2,
   "metadata": {},
   "outputs": [],
   "source": [
    "def check_face_marks(folder_path):\n",
    "    un_found_landmarks_images = []\n",
    "    # Iterate over all files in the folder\n",
    "    for file_path in folder_path.iterdir():\n",
    "        if file_path.is_file():\n",
    "            # Process the file here\n",
    "            # print(file_path)\n",
    "            faceModule = mp.solutions.face_mesh\n",
    "            # loading image and its corresponding mat file\n",
    "            with faceModule.FaceMesh(static_image_mode=True) as faces:\n",
    "                # loading the image\n",
    "                image = cv2.imread(str(file_path))  # Convert Path object to string\n",
    "                # print(image.shape)  # Check the shape of the loaded image\n",
    "                # processing the face to extract the landmark points (468 point) for each x,y,z\n",
    "                results = faces.process(cv2.cvtColor(image, cv2.COLOR_BGR2RGB))\n",
    "                if results.multi_face_landmarks != None: \n",
    "                    # looping over the faces in the image\n",
    "                    for face in results.multi_face_landmarks:\n",
    "                        for landmark in face.landmark:\n",
    "                            x = landmark.x\n",
    "                            y = landmark.y\n",
    "                            # note: the x and y values are scaled to their width and height so we will get back their actual value in the image\n",
    "                            shape = image.shape \n",
    "                            relative_x = int(x * shape[1])\n",
    "                            relative_y = int(y * shape[0])\n",
    "                            # print(x,y)\n",
    "                            # cv2.putText(image, str(relative_y), (int(relative_x),int(relative_y)), cv2.FONT_HERSHEY_SIMPLEX, 0.4, (0,255,0), 2)\n",
    "                            cv2.circle(image, (relative_x, relative_y), radius=1, color=(0, 255, 0), thickness=2)\n",
    "                else:\n",
    "                    print(file_path, 'Un found face landmarks')\n",
    "                    un_found_landmarks_images.append(file_path)\n",
    "        else:\n",
    "            print(file_path, 'UN_FOUND_file')\n",
    "    return un_found_landmarks_images\n",
    "\n",
    "\n",
    "folder_path = Path(r'.\\Data')\n",
    "un_found_landmarks_images = check_face_marks(folder_path)\n",
    "unused_labels = []\n",
    "for path in un_found_landmarks_images:\n",
    "    unused_labels.append(Path(str(path).replace('Data', 'Labels').replace('jpg', 'mat')))"
   ]
  },
  {
   "cell_type": "code",
   "execution_count": 40,
   "metadata": {},
   "outputs": [
    {
     "data": {
      "text/plain": [
       "147"
      ]
     },
     "execution_count": 40,
     "metadata": {},
     "output_type": "execute_result"
    }
   ],
   "source": [
    "len(unused_labels)"
   ]
  },
  {
   "cell_type": "markdown",
   "metadata": {},
   "source": [
    "## 4- Get all face landmarks **(Data)**"
   ]
  },
  {
   "cell_type": "code",
   "execution_count": 41,
   "metadata": {},
   "outputs": [],
   "source": [
    "def get_all_faces_marks(folder_path, unmarked_images_paths):\n",
    "    x_pos = []\n",
    "    y_pos = []\n",
    "    all_poses = []\n",
    "    # Iterate over all files in the folder\n",
    "    for file_path in filter(lambda x: x not in unmarked_images_paths, folder_path.iterdir()):\n",
    "        if file_path.is_file():\n",
    "            # Process the file here\n",
    "            # print(file_path)\n",
    "            faceModule = mp.solutions.face_mesh\n",
    "            # loading image and its corresponding mat file\n",
    "            with faceModule.FaceMesh(static_image_mode=True) as faces:\n",
    "                # loading the image\n",
    "                image = cv2.imread(str(file_path))  # Convert Path object to string\n",
    "                # print(image.shape)  # Check the shape of the loaded image\n",
    "                # processing the face to extract the landmark points (468 point) for each x,y,z\n",
    "                results = faces.process(cv2.cvtColor(image, cv2.COLOR_BGR2RGB))\n",
    "                if results.multi_face_landmarks != None: \n",
    "                    # looping over the faces in the image\n",
    "                    for face in results.multi_face_landmarks:\n",
    "                        for landmark in face.landmark:\n",
    "                            x = landmark.x\n",
    "                            y = landmark.y\n",
    "                            # note: the x and y values are scaled to their width and height so we will get back their actual value in the image\n",
    "                            shape = image.shape \n",
    "                            relative_x = int(x * shape[1])\n",
    "                            relative_y = int(y * shape[0])\n",
    "                            x_pos.append(x)\n",
    "                            y_pos.append(y)\n",
    "                            # print(x,y)\n",
    "                            # cv2.putText(image, str(relative_y), (int(relative_x),int(relative_y)), cv2.FONT_HERSHEY_SIMPLEX, 0.4, (0,255,0), 2)\n",
    "                            cv2.circle(image, (relative_x, relative_y), radius=1, color=(0, 255, 0), thickness=2)\n",
    "                        x_y_poses = np.array([x_pos, y_pos]).reshape((1,-1))\n",
    "                        all_poses.append(x_y_poses)\n",
    "                        x_pos.clear()\n",
    "                        y_pos.clear()\n",
    "    all_poses = np.array(all_poses)\n",
    "    return all_poses            \n",
    "                        \n",
    "\n",
    "\n",
    "folder_path = Path(r'.\\Data')\n",
    "all_poses = get_all_faces_marks(folder_path, unused_labels)"
   ]
  },
  {
   "cell_type": "markdown",
   "metadata": {},
   "source": [
    "## 5- Shaping and Dimensions adjusting"
   ]
  },
  {
   "cell_type": "code",
   "execution_count": 42,
   "metadata": {},
   "outputs": [
    {
     "name": "stdout",
     "output_type": "stream",
     "text": [
      "(1853, 1, 936)\n"
     ]
    }
   ],
   "source": [
    "print(all_poses.shape)"
   ]
  },
  {
   "cell_type": "code",
   "execution_count": 43,
   "metadata": {},
   "outputs": [
    {
     "name": "stdout",
     "output_type": "stream",
     "text": [
      "(1853, 936)\n"
     ]
    }
   ],
   "source": [
    "all_poses = all_poses.reshape((all_poses.shape[0], -1))\n",
    "print(all_poses.shape)"
   ]
  },
  {
   "cell_type": "code",
   "execution_count": 44,
   "metadata": {},
   "outputs": [],
   "source": [
    "data = pd.DataFrame(all_poses)\n",
    "data.to_csv('data.csv', index=False)  \n"
   ]
  },
  {
   "cell_type": "markdown",
   "metadata": {},
   "source": [
    "## 6- Gettint Angles (pitch, yaw, roll) ===>> **(Labels)**"
   ]
  },
  {
   "cell_type": "code",
   "execution_count": 96,
   "metadata": {},
   "outputs": [
    {
     "name": "stdout",
     "output_type": "stream",
     "text": [
      "(1853, 3)\n"
     ]
    }
   ],
   "source": [
    "def get_angles(folder_path, unused_labels):\n",
    "    angles = []\n",
    "    # Iterate over all files in the folder\n",
    "    for file_path in folder_path.iterdir():\n",
    "        if file_path in unused_labels:\n",
    "            continue\n",
    "        else:\n",
    "            if file_path.is_file():\n",
    "                # Process the file here\n",
    "                mat_file = sio.loadmat(file_path)\n",
    "                # extracting the labels 3 angels\n",
    "                pose_para = mat_file[\"Pose_Para\"][0][:3]\n",
    "                pitch = pose_para[0]\n",
    "                yaw = pose_para[1]\n",
    "                roll = pose_para[2]\n",
    "                angles.append([pitch, yaw, roll])\n",
    "                # print(pitch, yaw, roll)\n",
    "    angles = np.array(angles)\n",
    "    return angles\n",
    "\n",
    "\n",
    "folder_path = Path(r'.\\Labels')\n",
    "angles = get_angles(folder_path, unused_labels)\n",
    "print(angles.shape)"
   ]
  },
  {
   "cell_type": "code",
   "execution_count": 97,
   "metadata": {},
   "outputs": [
    {
     "data": {
      "text/html": [
       "<div>\n",
       "<style scoped>\n",
       "    .dataframe tbody tr th:only-of-type {\n",
       "        vertical-align: middle;\n",
       "    }\n",
       "\n",
       "    .dataframe tbody tr th {\n",
       "        vertical-align: top;\n",
       "    }\n",
       "\n",
       "    .dataframe thead th {\n",
       "        text-align: right;\n",
       "    }\n",
       "</style>\n",
       "<table border=\"1\" class=\"dataframe\">\n",
       "  <thead>\n",
       "    <tr style=\"text-align: right;\">\n",
       "      <th></th>\n",
       "      <th>pitch</th>\n",
       "      <th>yaw</th>\n",
       "      <th>roll</th>\n",
       "    </tr>\n",
       "  </thead>\n",
       "  <tbody>\n",
       "    <tr>\n",
       "      <th>0</th>\n",
       "      <td>-0.399231</td>\n",
       "      <td>0.018227</td>\n",
       "      <td>0.085676</td>\n",
       "    </tr>\n",
       "    <tr>\n",
       "      <th>1</th>\n",
       "      <td>0.470065</td>\n",
       "      <td>1.189533</td>\n",
       "      <td>0.300959</td>\n",
       "    </tr>\n",
       "    <tr>\n",
       "      <th>2</th>\n",
       "      <td>-0.184650</td>\n",
       "      <td>0.881137</td>\n",
       "      <td>-0.236852</td>\n",
       "    </tr>\n",
       "    <tr>\n",
       "      <th>3</th>\n",
       "      <td>-0.175379</td>\n",
       "      <td>0.299208</td>\n",
       "      <td>-0.373374</td>\n",
       "    </tr>\n",
       "    <tr>\n",
       "      <th>4</th>\n",
       "      <td>-0.026812</td>\n",
       "      <td>0.011965</td>\n",
       "      <td>-0.220662</td>\n",
       "    </tr>\n",
       "  </tbody>\n",
       "</table>\n",
       "</div>"
      ],
      "text/plain": [
       "      pitch       yaw      roll\n",
       "0 -0.399231  0.018227  0.085676\n",
       "1  0.470065  1.189533  0.300959\n",
       "2 -0.184650  0.881137 -0.236852\n",
       "3 -0.175379  0.299208 -0.373374\n",
       "4 -0.026812  0.011965 -0.220662"
      ]
     },
     "execution_count": 97,
     "metadata": {},
     "output_type": "execute_result"
    }
   ],
   "source": [
    "df = pd.DataFrame(angles)\n",
    "df.rename(columns={0: 'pitch', 1: 'yaw', 2: 'roll'}, inplace=True)\n",
    "df.to_csv('labels.csv', index=False)\n",
    "df.head()\n"
   ]
  },
  {
   "cell_type": "markdown",
   "metadata": {},
   "source": [
    "## 7.1- Defining ML model Training :\n",
    "- Features\n",
    "- Labels"
   ]
  },
  {
   "cell_type": "code",
   "execution_count": 2,
   "metadata": {},
   "outputs": [],
   "source": [
    "# all_poses = pd.read_csv('data.csv').to_numpy()\n",
    "# angles = pd.read_csv('labels.csv').to_numpy()"
   ]
  },
  {
   "cell_type": "code",
   "execution_count": 16,
   "metadata": {},
   "outputs": [
    {
     "name": "stdout",
     "output_type": "stream",
     "text": [
      "(1853, 936)\n",
      "(1853, 3)\n"
     ]
    }
   ],
   "source": [
    "features = all_poses[:]\n",
    "labels = angles[:]\n",
    "print(features.shape)\n",
    "print(labels.shape)"
   ]
  },
  {
   "cell_type": "markdown",
   "metadata": {},
   "source": [
    "## 7.2- Normalizing cordinates to reduce camera (frame) movement effect:"
   ]
  },
  {
   "cell_type": "code",
   "execution_count": 17,
   "metadata": {},
   "outputs": [
    {
     "name": "stdout",
     "output_type": "stream",
     "text": [
      "Normalized x shape: (1853, 468)\n",
      "Normalized y shape: (1853, 468)\n",
      "Reconstructed features shape: (1853, 936)\n"
     ]
    }
   ],
   "source": [
    "x = features[:, :468]\n",
    "y = features[:, 468:]\n",
    "\n",
    "# Normalize x\n",
    "x_normalized = ((x - np.min(x, axis=1, keepdims=True)) / (np.max(x, axis=1, keepdims=True) - np.min(x, axis=1, keepdims=True)))\n",
    "\n",
    "# Normalize y\n",
    "y_normalized = ((y - np.min(y, axis=1, keepdims=True))  / (np.max(y, axis=1, keepdims=True) - np.min(y, axis=1, keepdims=True)))\n",
    "\n",
    "print(\"Normalized x shape:\", x_normalized.shape)\n",
    "print(\"Normalized y shape:\", y_normalized.shape)\n",
    "\n",
    "features = np.hstack((x_normalized, y_normalized))\n",
    "\n",
    "print(\"Reconstructed features shape:\", features.shape)\n"
   ]
  },
  {
   "cell_type": "markdown",
   "metadata": {},
   "source": [
    "## 8.1- Training 5 Different models (Linear Model Lasso - Elastic Net - Random Forest Regressor - Random forest - Decision Tree) and investigate metrics"
   ]
  },
  {
   "cell_type": "markdown",
   "metadata": {},
   "source": [
    "## 1- Score :"
   ]
  },
  {
   "cell_type": "code",
   "execution_count": 7,
   "metadata": {},
   "outputs": [
    {
     "name": "stdout",
     "output_type": "stream",
     "text": [
      "labels_train.shape =  (1111, 3)\n",
      "labels_validation.shape =  (371, 3)\n",
      "==================================================\n",
      "LR model Lasso: \n",
      "Train :  0.5461943893400721\n",
      "Validation :  0.5578790747210588\n",
      "==================================================\n",
      "LR model Ridge: \n",
      "Train :  0.7635598337325518\n",
      "Validation :  0.4336340238703153\n",
      "==================================================\n",
      "Elastic Net model : \n",
      "Train :  0.516473864291377\n",
      "Validation :  0.5786505841000171\n",
      "==================================================\n",
      "Random Forest model : \n",
      "Train :  0.8976927800742852\n",
      "Validation :  0.5830983950477692\n",
      "==================================================\n",
      "Decision Tree model : \n",
      "Train :  0.5144570389459902\n",
      "Validation :  0.5134384346496267\n"
     ]
    }
   ],
   "source": [
    "from sklearn import linear_model\n",
    "from sklearn.linear_model import Ridge\n",
    "from sklearn.linear_model import ElasticNet\n",
    "from sklearn.model_selection import train_test_split\n",
    "from sklearn.ensemble import RandomForestRegressor\n",
    "from sklearn.tree import DecisionTreeRegressor\n",
    "\n",
    "r_seed = 99\n",
    "features_train, features_validation_test, labels_train, labels_validation_test = train_test_split(features, labels, test_size=0.4, random_state=r_seed)\n",
    "features_validation, features_test, labels_validation, labels_test = train_test_split(features_validation_test, labels_validation_test, test_size=0.5, random_state=r_seed)\n",
    "\n",
    "print('labels_train.shape = ', labels_train.shape)\n",
    "print('labels_validation.shape = ', labels_validation.shape)\n",
    "print('=' * 50)\n",
    "\n",
    "## LinearRegression Lasso ##\n",
    "lasso_reg = linear_model.Lasso(alpha=0.0001, max_iter=10000)\n",
    "lasso_reg.fit(features_train, labels_train)\n",
    "\n",
    "# ## LinearRegression Ridge ##\n",
    "ridge_reg = Ridge(alpha=0.001, max_iter=10000)  \n",
    "ridge_reg.fit(features_train, labels_train)\n",
    "\n",
    "# ## ElasticNet Model ##\n",
    "alpha = 0.001  # regularization strength\n",
    "l1_ratio = 0.05  # mixing parameter for L1 and L2 penalties\n",
    "elastic_net = ElasticNet(alpha=alpha, l1_ratio=l1_ratio, random_state=r_seed)\n",
    "elastic_net.fit(features_train, labels_train)\n",
    "\n",
    "# ## Random Forest ##\n",
    "random_forest_reg = RandomForestRegressor(n_estimators=100, max_depth=20, n_jobs=-1, random_state=r_seed)\n",
    "random_forest_reg.fit(features_train, labels_train)\n",
    "\n",
    "# ## Decision Tree ##\n",
    "dt_regressor = DecisionTreeRegressor(max_depth=20, min_samples_split=10, min_samples_leaf=10, random_state=r_seed)\n",
    "dt_regressor.fit(features_train, labels_train)\n",
    "\n",
    "print('LR model Lasso: ')\n",
    "print('Train : ', lasso_reg.score(features_train, labels_train))\n",
    "print('Validation : ', lasso_reg.score(features_validation, labels_validation))\n",
    "print('=' * 50)\n",
    "print('LR model Ridge: ')\n",
    "print('Train : ', ridge_reg.score(features_train, labels_train))\n",
    "print('Validation : ', ridge_reg.score(features_validation, labels_validation))\n",
    "print('=' * 50)\n",
    "print('Elastic Net model : ')\n",
    "print('Train : ', elastic_net.score(features_train, labels_train))\n",
    "print('Validation : ', elastic_net.score(features_validation, labels_validation))\n",
    "print('=' * 50)\n",
    "print('Random Forest model : ')\n",
    "print('Train : ', random_forest_reg.score(features_train, labels_train))\n",
    "print('Validation : ', random_forest_reg.score(features_validation, labels_validation))\n",
    "print('=' * 50)\n",
    "print('Decision Tree model : ')\n",
    "print('Train : ', dt_regressor.score(features_train, labels_train))\n",
    "print('Validation : ', dt_regressor.score(features_validation, labels_validation))"
   ]
  },
  {
   "cell_type": "markdown",
   "metadata": {},
   "source": [
    "## 2- mse:"
   ]
  },
  {
   "cell_type": "code",
   "execution_count": 11,
   "metadata": {},
   "outputs": [
    {
     "name": "stdout",
     "output_type": "stream",
     "text": [
      "MSE of  Lasso(alpha=0.0001, max_iter=10000) is = 0.06272185089016603\n",
      "MSE of  Ridge(alpha=0.001, max_iter=10000) is = 0.08026532538476752\n",
      "MSE of  ElasticNet(alpha=0.001, l1_ratio=0.05, random_state=99) is = 0.060165911584337615\n",
      "MSE of  RandomForestRegressor(max_depth=20, n_jobs=-1, random_state=99) is = 0.05989561204310397\n",
      "MSE of  DecisionTreeRegressor(max_depth=20, min_samples_leaf=10, min_samples_split=10,\n",
      "                      random_state=99) is = 0.0713882212435128\n"
     ]
    }
   ],
   "source": [
    "from sklearn.metrics import mean_squared_error\n",
    "models = [lasso_reg, ridge_reg, elastic_net, random_forest_reg, dt_regressor]\n",
    "for model in models:\n",
    "    model.fit(features_train, labels_train)\n",
    "    y_pred = model.predict(features_validation)\n",
    "    mse = mean_squared_error(labels_validation, y_pred)\n",
    "    print(f'MSE of  {model} is = {mse}')"
   ]
  },
  {
   "cell_type": "markdown",
   "metadata": {},
   "source": [
    "## Checking **Kfold :**"
   ]
  },
  {
   "cell_type": "code",
   "execution_count": 18,
   "metadata": {},
   "outputs": [
    {
     "name": "stdout",
     "output_type": "stream",
     "text": [
      "Average Train Scores:\n",
      "Lasso: 0.498467735475287\n",
      "Ridge: 0.6779710968569117\n",
      "Elastic Net: 0.4791502455230642\n",
      "Decision Tree: 0.5142261065276631\n",
      "==================================================\n",
      "Average Validation Scores:\n",
      "Lasso: 0.5069410207349481\n",
      "Ridge: 0.26514097506392253\n",
      "Elastic Net: 0.5347140360548506\n",
      "Decision Tree: 0.41900316215397426\n"
     ]
    }
   ],
   "source": [
    "from sklearn.model_selection import KFold\n",
    "\n",
    "# Define the number of folds\n",
    "n_splits = 5  # You can adjust the number of folds as needed\n",
    "\n",
    "# Create KFold instance\n",
    "kf = KFold(n_splits=n_splits, shuffle=True, random_state=r_seed)\n",
    "\n",
    "# Initialize lists to store scores\n",
    "# (you may need to adjust these based on your specific metrics)\n",
    "lasso_train_scores = []\n",
    "lasso_val_scores = []\n",
    "ridge_train_scores = []\n",
    "ridge_val_scores = []\n",
    "elastic_net_train_scores = []\n",
    "elastic_net_val_scores = []\n",
    "random_forest_train_scores = []\n",
    "random_forest_val_scores = []\n",
    "dt_train_scores = []\n",
    "dt_val_scores = []\n",
    "features = pd.DataFrame(features)\n",
    "\n",
    "\n",
    "# Loop over the folds\n",
    "for train_index, val_index in kf.split(features):\n",
    "    features_train, features_validation = features.iloc[train_index], features.iloc[val_index]\n",
    "    labels_train, labels_validation = labels[train_index], labels[val_index]\n",
    "    \n",
    "\n",
    "# Loop over the folds\n",
    "for train_index, val_index in kf.split(features, labels):\n",
    "    features_train, features_validation = features.iloc[train_index], features.iloc[val_index]\n",
    "    labels_train, labels_validation = labels[train_index], labels[val_index]\n",
    "    \n",
    "\n",
    "    ## LinearRegression Lasso ##\n",
    "    lasso_reg_kfold = linear_model.Lasso(alpha=0.0001, max_iter=10000)\n",
    "    lasso_reg_kfold.fit(features_train, labels_train)\n",
    "    lasso_train_scores.append(lasso_reg_kfold.score(features_train, labels_train))\n",
    "    lasso_val_scores.append(lasso_reg_kfold.score(features_validation, labels_validation))\n",
    "\n",
    "    ## LinearRegression Ridge ##\n",
    "    ridge_reg_kfold = Ridge(alpha=0.001, max_iter=10000)  \n",
    "    ridge_reg_kfold.fit(features_train, labels_train)\n",
    "    ridge_train_scores.append(ridge_reg_kfold.score(features_train, labels_train))\n",
    "    ridge_val_scores.append(ridge_reg_kfold.score(features_validation, labels_validation))\n",
    "\n",
    "    ## ElasticNet Model ##\n",
    "    alpha = 0.001  # regularization strength\n",
    "    l1_ratio = 0.05  # mixing parameter for L1 and L2 penalties\n",
    "    elastic_net_kfold = ElasticNet(alpha=alpha, l1_ratio=l1_ratio, random_state=r_seed)\n",
    "    elastic_net_kfold.fit(features_train, labels_train)\n",
    "    elastic_net_train_scores.append(elastic_net_kfold.score(features_train, labels_train))\n",
    "    elastic_net_val_scores.append(elastic_net_kfold.score(features_validation, labels_validation))\n",
    "\n",
    "    \n",
    "\n",
    "    ## Decision Tree ##\n",
    "    dt_regressor_kfold = DecisionTreeRegressor(max_depth=20, min_samples_split=10, min_samples_leaf=10, random_state=r_seed)\n",
    "    dt_regressor_kfold.fit(features_train, labels_train)\n",
    "    dt_train_scores.append(dt_regressor_kfold.score(features_train, labels_train))\n",
    "    dt_val_scores.append(dt_regressor_kfold.score(features_validation, labels_validation))\n",
    "\n",
    "# Print average scores\n",
    "print('Average Train Scores:')\n",
    "print('Lasso:', np.mean(lasso_train_scores))\n",
    "print('Ridge:', np.mean(ridge_train_scores))\n",
    "print('Elastic Net:', np.mean(elastic_net_train_scores))\n",
    "print('Decision Tree:', np.mean(dt_train_scores))\n",
    "print('=' * 50)\n",
    "print('Average Validation Scores:')\n",
    "print('Lasso:', np.mean(lasso_val_scores))\n",
    "print('Ridge:', np.mean(ridge_val_scores))\n",
    "print('Elastic Net:', np.mean(elastic_net_val_scores))\n",
    "print('Decision Tree:', np.mean(dt_val_scores))\n"
   ]
  },
  {
   "cell_type": "markdown",
   "metadata": {},
   "source": [
    "### **From previous results, it seems that ELASTIC NET regressor is the best !!**\n",
    "#### **Let's Test ..**\n",
    "## **But first !! Train the models on ALL DATA SET**\n"
   ]
  },
  {
   "cell_type": "markdown",
   "metadata": {},
   "source": [
    "## 8.2- TRAINING Models on all dataset :"
   ]
  },
  {
   "cell_type": "code",
   "execution_count": 19,
   "metadata": {},
   "outputs": [
    {
     "data": {
      "text/html": [
       "<style>#sk-container-id-1 {color: black;}#sk-container-id-1 pre{padding: 0;}#sk-container-id-1 div.sk-toggleable {background-color: white;}#sk-container-id-1 label.sk-toggleable__label {cursor: pointer;display: block;width: 100%;margin-bottom: 0;padding: 0.3em;box-sizing: border-box;text-align: center;}#sk-container-id-1 label.sk-toggleable__label-arrow:before {content: \"▸\";float: left;margin-right: 0.25em;color: #696969;}#sk-container-id-1 label.sk-toggleable__label-arrow:hover:before {color: black;}#sk-container-id-1 div.sk-estimator:hover label.sk-toggleable__label-arrow:before {color: black;}#sk-container-id-1 div.sk-toggleable__content {max-height: 0;max-width: 0;overflow: hidden;text-align: left;background-color: #f0f8ff;}#sk-container-id-1 div.sk-toggleable__content pre {margin: 0.2em;color: black;border-radius: 0.25em;background-color: #f0f8ff;}#sk-container-id-1 input.sk-toggleable__control:checked~div.sk-toggleable__content {max-height: 200px;max-width: 100%;overflow: auto;}#sk-container-id-1 input.sk-toggleable__control:checked~label.sk-toggleable__label-arrow:before {content: \"▾\";}#sk-container-id-1 div.sk-estimator input.sk-toggleable__control:checked~label.sk-toggleable__label {background-color: #d4ebff;}#sk-container-id-1 div.sk-label input.sk-toggleable__control:checked~label.sk-toggleable__label {background-color: #d4ebff;}#sk-container-id-1 input.sk-hidden--visually {border: 0;clip: rect(1px 1px 1px 1px);clip: rect(1px, 1px, 1px, 1px);height: 1px;margin: -1px;overflow: hidden;padding: 0;position: absolute;width: 1px;}#sk-container-id-1 div.sk-estimator {font-family: monospace;background-color: #f0f8ff;border: 1px dotted black;border-radius: 0.25em;box-sizing: border-box;margin-bottom: 0.5em;}#sk-container-id-1 div.sk-estimator:hover {background-color: #d4ebff;}#sk-container-id-1 div.sk-parallel-item::after {content: \"\";width: 100%;border-bottom: 1px solid gray;flex-grow: 1;}#sk-container-id-1 div.sk-label:hover label.sk-toggleable__label {background-color: #d4ebff;}#sk-container-id-1 div.sk-serial::before {content: \"\";position: absolute;border-left: 1px solid gray;box-sizing: border-box;top: 0;bottom: 0;left: 50%;z-index: 0;}#sk-container-id-1 div.sk-serial {display: flex;flex-direction: column;align-items: center;background-color: white;padding-right: 0.2em;padding-left: 0.2em;position: relative;}#sk-container-id-1 div.sk-item {position: relative;z-index: 1;}#sk-container-id-1 div.sk-parallel {display: flex;align-items: stretch;justify-content: center;background-color: white;position: relative;}#sk-container-id-1 div.sk-item::before, #sk-container-id-1 div.sk-parallel-item::before {content: \"\";position: absolute;border-left: 1px solid gray;box-sizing: border-box;top: 0;bottom: 0;left: 50%;z-index: -1;}#sk-container-id-1 div.sk-parallel-item {display: flex;flex-direction: column;z-index: 1;position: relative;background-color: white;}#sk-container-id-1 div.sk-parallel-item:first-child::after {align-self: flex-end;width: 50%;}#sk-container-id-1 div.sk-parallel-item:last-child::after {align-self: flex-start;width: 50%;}#sk-container-id-1 div.sk-parallel-item:only-child::after {width: 0;}#sk-container-id-1 div.sk-dashed-wrapped {border: 1px dashed gray;margin: 0 0.4em 0.5em 0.4em;box-sizing: border-box;padding-bottom: 0.4em;background-color: white;}#sk-container-id-1 div.sk-label label {font-family: monospace;font-weight: bold;display: inline-block;line-height: 1.2em;}#sk-container-id-1 div.sk-label-container {text-align: center;}#sk-container-id-1 div.sk-container {/* jupyter's `normalize.less` sets `[hidden] { display: none; }` but bootstrap.min.css set `[hidden] { display: none !important; }` so we also need the `!important` here to be able to override the default hidden behavior on the sphinx rendered scikit-learn.org. See: https://github.com/scikit-learn/scikit-learn/issues/21755 */display: inline-block !important;position: relative;}#sk-container-id-1 div.sk-text-repr-fallback {display: none;}</style><div id=\"sk-container-id-1\" class=\"sk-top-container\"><div class=\"sk-text-repr-fallback\"><pre>DecisionTreeRegressor(max_depth=20, min_samples_leaf=10, min_samples_split=10,\n",
       "                      random_state=99)</pre><b>In a Jupyter environment, please rerun this cell to show the HTML representation or trust the notebook. <br />On GitHub, the HTML representation is unable to render, please try loading this page with nbviewer.org.</b></div><div class=\"sk-container\" hidden><div class=\"sk-item\"><div class=\"sk-estimator sk-toggleable\"><input class=\"sk-toggleable__control sk-hidden--visually\" id=\"sk-estimator-id-1\" type=\"checkbox\" checked><label for=\"sk-estimator-id-1\" class=\"sk-toggleable__label sk-toggleable__label-arrow\">DecisionTreeRegressor</label><div class=\"sk-toggleable__content\"><pre>DecisionTreeRegressor(max_depth=20, min_samples_leaf=10, min_samples_split=10,\n",
       "                      random_state=99)</pre></div></div></div></div></div>"
      ],
      "text/plain": [
       "DecisionTreeRegressor(max_depth=20, min_samples_leaf=10, min_samples_split=10,\n",
       "                      random_state=99)"
      ]
     },
     "execution_count": 19,
     "metadata": {},
     "output_type": "execute_result"
    }
   ],
   "source": [
    "## LinearRegression Lasso ##\n",
    "lasso_reg = linear_model.Lasso(alpha=0.0001, max_iter=10000)\n",
    "lasso_reg.fit(features, labels)\n",
    "\n",
    "# ## LinearRegression Ridge ##\n",
    "ridge_reg = Ridge(alpha=0.001, max_iter=10000)  \n",
    "ridge_reg.fit(features, labels)\n",
    "\n",
    "# ## ElasticNet Model ##\n",
    "alpha = 0.001  # regularization strength\n",
    "l1_ratio = 0.05  # mixing parameter for L1 and L2 penalties\n",
    "elastic_net = ElasticNet(alpha=alpha, l1_ratio=l1_ratio, random_state=r_seed)\n",
    "elastic_net.fit(features, labels)\n",
    "\n",
    "# ## Random Forest ##\n",
    "random_forest_reg = RandomForestRegressor(n_estimators=100, max_depth=20, n_jobs=-1, random_state=r_seed)\n",
    "random_forest_reg.fit(features, labels)\n",
    "\n",
    "# ## Decision Tree ##\n",
    "dt_regressor = DecisionTreeRegressor(max_depth=20, min_samples_split=10, min_samples_leaf=10, random_state=r_seed)\n",
    "dt_regressor.fit(features, labels)"
   ]
  },
  {
   "cell_type": "markdown",
   "metadata": {},
   "source": [
    "## 8.3- Testing Models:"
   ]
  },
  {
   "cell_type": "code",
   "execution_count": 20,
   "metadata": {},
   "outputs": [
    {
     "name": "stdout",
     "output_type": "stream",
     "text": [
      ":Lasso(alpha=0.0001, max_iter=10000) Model \n",
      "Test :  0.4255966668624341\n",
      "==================================================\n",
      ":Ridge(alpha=0.001, max_iter=10000) Model \n",
      "Test :  0.6348877311597556\n",
      "==================================================\n",
      ":ElasticNet(alpha=0.001, l1_ratio=0.05, random_state=99) Model \n",
      "Test :  0.4105806053382916\n",
      "==================================================\n",
      ":RandomForestRegressor(max_depth=20, n_jobs=-1, random_state=99) Model \n",
      "Test :  0.9211284535946335\n",
      "==================================================\n",
      ":DecisionTreeRegressor(max_depth=20, min_samples_leaf=10, min_samples_split=10,\n",
      "                      random_state=99) Model \n",
      "Test :  0.47330152438864026\n",
      "==================================================\n"
     ]
    }
   ],
   "source": [
    "models = [lasso_reg, ridge_reg, elastic_net, random_forest_reg, dt_regressor]\n",
    "for model in models:\n",
    "    print(f':{model} Model ')\n",
    "    print('Test : ', model.score(features_test, labels_test))\n",
    "    print('=' * 50)\n"
   ]
  },
  {
   "cell_type": "markdown",
   "metadata": {},
   "source": [
    "### **WE Are now see LR Lasso, and Elastic Net are the best models**"
   ]
  },
  {
   "cell_type": "markdown",
   "metadata": {},
   "source": [
    "## 9- Saving the 5 Models locally"
   ]
  },
  {
   "cell_type": "code",
   "execution_count": 21,
   "metadata": {},
   "outputs": [
    {
     "data": {
      "text/plain": [
       "['dt_regressor.pkl']"
      ]
     },
     "execution_count": 21,
     "metadata": {},
     "output_type": "execute_result"
    }
   ],
   "source": [
    "import joblib\n",
    "joblib.dump(lasso_reg, 'lasso_reg_model.pkl')\n",
    "joblib.dump(ridge_reg, 'ridge_reg.pkl')\n",
    "joblib.dump(elastic_net, 'elastic_net.pkl')\n",
    "joblib.dump(random_forest_reg, 'random_forest_reg.pkl')\n",
    "joblib.dump(dt_regressor, 'dt_regressor.pkl')"
   ]
  },
  {
   "cell_type": "markdown",
   "metadata": {},
   "source": [
    "## 10- Use one model (Lasso Model)"
   ]
  },
  {
   "cell_type": "code",
   "execution_count": 2,
   "metadata": {},
   "outputs": [],
   "source": [
    "import joblib\n",
    "loaded_model = joblib.load('elastic_net.pkl')"
   ]
  },
  {
   "cell_type": "markdown",
   "metadata": {},
   "source": [
    "## 11- Testing the model on Real Data from life"
   ]
  },
  {
   "cell_type": "code",
   "execution_count": 40,
   "metadata": {},
   "outputs": [
    {
     "name": "stdout",
     "output_type": "stream",
     "text": [
      "(1, 936)\n",
      "[[ 0.13911558 -0.00188543 -0.02763582]]\n"
     ]
    },
    {
     "data": {
      "text/plain": [
       "True"
      ]
     },
     "execution_count": 40,
     "metadata": {},
     "output_type": "execute_result"
    },
    {
     "data": {
      "image/png": "[encoded data removed]",
      "text/plain": [
       "<Figure size 640x480 with 1 Axes>"
      ]
     },
     "metadata": {},
     "output_type": "display_data"
    }
   ],
   "source": [
    "def get_face_points(image_path):\n",
    "    x_pos = []\n",
    "    y_pos = []\n",
    "    faceModule = mp.solutions.face_mesh\n",
    "    # loading image and its corresponding mat file\n",
    "    with faceModule.FaceMesh(static_image_mode=True) as faces:\n",
    "        # loading the image\n",
    "        image = cv2.imread(image_path)\n",
    "        # processing the face to extract the landmark points (468 points) for each x,y,z\n",
    "        results = faces.process(cv2.cvtColor(image, cv2.COLOR_BGR2RGB))\n",
    "        if results.multi_face_landmarks != None: \n",
    "            # looping over the faces in the image\n",
    "            for face in results.multi_face_landmarks:\n",
    "                for landmark in face.landmark:\n",
    "                    x = landmark.x\n",
    "                    y = landmark.y\n",
    "                    # note: the x and y values are scaled to their width and height so we will get back their actual value in the image\n",
    "                    shape = image.shape \n",
    "                    relative_x = int(x * shape[1])\n",
    "                    relative_y = int(y * shape[0])\n",
    "                    x_pos.append(x)\n",
    "                    y_pos.append(y)\n",
    "                    x_pos_arr = np.array(x_pos)\n",
    "                    y_pos_arr = np.array(y_pos)\n",
    "                    cv2.putText(image, str(relative_y), (int(relative_x),int(relative_y)), cv2.FONT_HERSHEY_SIMPLEX, 0.4, (0,255,0), 2)\n",
    "                    cv2.circle(image, (relative_x, relative_y), radius=1, color=(0, 255, 0), thickness=2)\n",
    "    x_normalized = ((x_pos - np.min(x_pos_arr)) / (np.max(x_pos_arr) - np.min(x_pos_arr)))\n",
    "    y_normalized = ((y_pos - np.min(y_pos_arr)) / (np.max(y_pos_arr) - np.min(y_pos_arr)))\n",
    "    poses = np.hstack((x_normalized, y_normalized)).reshape((1, -1))\n",
    "    tdx = shape[1] * x_pos[168]\n",
    "    tdy = shape[0] * y_pos[168]\n",
    "    return poses, tdx, tdy\n",
    "\n",
    "\n",
    "def draw_axis(img, pitch,yaw,roll, tdx=None, tdy=None, size = 100):\n",
    "    yaw = -yaw\n",
    "    if tdx != None and tdy != None:\n",
    "        tdx = tdx\n",
    "        tdy = tdy\n",
    "    else:\n",
    "        height, width = img.shape[:2]\n",
    "        tdx = width / 8\n",
    "        tdy = height / 8\n",
    "\n",
    "    # X-Axis pointing to right. drawn in red\n",
    "    x1 = size * (cos(yaw) * cos(roll)) + tdx\n",
    "    y1 = size * (cos(pitch) * sin(roll) + cos(roll) * sin(pitch) * sin(yaw)) + tdy\n",
    "\n",
    "    # Y-Axis | drawn in green\n",
    "    #        v\n",
    "    x2 = size * (-cos(yaw) * sin(roll)) + tdx\n",
    "    y2 = size * (cos(pitch) * cos(roll) - sin(pitch) * sin(yaw) * sin(roll)) + tdy\n",
    "\n",
    "    # Z-Axis (out of the screen) drawn in blue\n",
    "    x3 = size * (sin(yaw)) + tdx\n",
    "    y3 = size * (-cos(yaw) * sin(pitch)) + tdy\n",
    "    # img = cv2.cvtColor(img, cv2.COLOR_BGR2RGB)\n",
    "    cv2.putText(img, str((round(pitch * 180 / np.pi, 3), round(yaw * 180 / np.pi, 3), round(roll * 180 / np.pi, 3))), (int(tdx-150),int(tdy-70)), cv2.FONT_HERSHEY_SIMPLEX, 0.8, (255,0,0), 4)\n",
    "    cv2.line(img, (int(tdx), int(tdy)), (int(x1),int(y1)),(0,0,255),3)\n",
    "    cv2.line(img, (int(tdx), int(tdy)), (int(x2),int(y2)),(0,255,0),3)\n",
    "    cv2.line(img, (int(tdx), int(tdy)), (int(x3),int(y3)),(255,0,0),2)\n",
    "\n",
    "    return img\n",
    "\n",
    "\n",
    "my_path = str(Path(r\".\\my_img_1.jpg\"))\n",
    "pose, tdx, tdy = get_face_points(my_path)\n",
    "print(pose.shape)\n",
    "\n",
    "angle = loaded_model.predict(pose)\n",
    "print(angle)\n",
    "\n",
    "image = cv2.imread(my_path)\n",
    "pitch = angle[0,0]\n",
    "yow = angle[0,1]\n",
    "roll = angle[0,2]\n",
    "output_image = draw_axis(image,pitch,yow,roll, tdx=tdx, tdy=tdy)\n",
    "plt.imshow(cv2.cvtColor(output_image, cv2.COLOR_BGR2RGB))\n",
    "cv2.imwrite('output_image.jpg', output_image)\n"
   ]
  },
  {
   "cell_type": "markdown",
   "metadata": {},
   "source": [
    "## 12- Use WebCam :"
   ]
  },
  {
   "cell_type": "code",
   "execution_count": 30,
   "metadata": {},
   "outputs": [],
   "source": [
    "mp_face_detection = mp.solutions.face_detection\n",
    "mp_face_mesh = mp.solutions.face_mesh\n",
    "\n",
    "face_detection = mp_face_detection.FaceDetection()\n",
    "face_mesh = mp_face_mesh.FaceMesh()\n",
    "\n",
    "cap = cv2.VideoCapture(0)\n",
    "\n",
    "def draw_lines(image, pitch, yaw, roll, tdx=None, tdy=None, size=100):\n",
    "    yaw = -yaw\n",
    "    if tdx is None and tdy is None:\n",
    "        height, width = image.shape[:2]\n",
    "        tdx = width / 8\n",
    "        tdy = height / 8\n",
    "\n",
    "    # X-Axis pointing to right. drawn in red\n",
    "    x1 = size * (cos(yaw) * cos(roll)) + tdx\n",
    "    y1 = size * (cos(pitch) * sin(roll) + cos(roll) * sin(pitch) * sin(yaw)) + tdy\n",
    "\n",
    "    # Y-Axis | drawn in green\n",
    "    #        v\n",
    "    x2 = size * (-cos(yaw) * sin(roll)) + tdx\n",
    "    y2 = size * (cos(pitch) * cos(roll) - sin(pitch) * sin(yaw) * sin(roll)) + tdy\n",
    "\n",
    "    # Z-Axis (out of the screen) drawn in blue\n",
    "    x3 = size * (sin(yaw)) + tdx\n",
    "    y3 = size * (-cos(yaw) * sin(pitch)) + tdy\n",
    "\n",
    "    # Convert float coordinates to integers\n",
    "    pt1 = (int(tdx), int(tdy))\n",
    "    pt2_x1_y1 = (int(x1), int(y1))\n",
    "    pt2_x2_y2 = (int(x2), int(y2))\n",
    "    pt2_x3_y3 = (int(x3), int(y3))\n",
    "    # Draw lines\n",
    "    cv2.putText(image, str((round(pitch * 180 / np.pi, 3), round(yaw * 180 / np.pi, 3), round(roll * 180 / np.pi, 3))), (int(10),int(30)), cv2.FONT_HERSHEY_SIMPLEX, 1, (0,0,255), 5)\n",
    "    cv2.line(image, pt1, pt2_x1_y1, (0, 0, 255), 3)  # X-Axis (Red)\n",
    "    cv2.line(image, pt1, pt2_x2_y2, (0, 255, 0), 3)  # Y-Axis (Green)\n",
    "    cv2.line(image, pt1, pt2_x3_y3, (255, 0, 0), 2)  # Z-Axis (Blue)\n",
    "\n",
    "while cap.isOpened():\n",
    "\n",
    "# Fit the scaler to your data and transform it\n",
    "    \n",
    "    ret, frame = cap.read()\n",
    "    if not ret:\n",
    "        break\n",
    "\n",
    "    # Resize the frame to 450x450\n",
    "    # frame = cv2.resize(frame, (450, 450))\n",
    "\n",
    "    # Convert the image to RGB\n",
    "    frame_rgb = cv2.cvtColor(frame, cv2.COLOR_BGR2RGB)\n",
    "    # Face detection\n",
    "    result_detection = face_detection.process(frame_rgb)\n",
    "\n",
    "    if result_detection.detections:\n",
    "        for detection in result_detection.detections:\n",
    "            bboxC = detection.location_data.relative_bounding_box\n",
    "            ih, iw, _ = frame.shape\n",
    "            bbox = int(bboxC.xmin * iw), int(bboxC.ymin * ih), \\\n",
    "                   int(bboxC.width * iw), int(bboxC.height * ih)\n",
    "            cv2.rectangle(frame, bbox, (255, 0, 255), 2)\n",
    "\n",
    "    # Face landmark detection\n",
    "    result_landmarks = face_mesh.process(frame_rgb)\n",
    "\n",
    "    if result_landmarks.multi_face_landmarks:\n",
    "        for face_landmarks in result_landmarks.multi_face_landmarks:\n",
    "            landmarks = []\n",
    "            for lm in face_landmarks.landmark:\n",
    "                # x_0, y_0 = int(lm.x * iw), int(lm.y * ih)\n",
    "                x, y = (lm.x), (lm.y)\n",
    "                landmarks.append([x, y])\n",
    "                # cv2.circle(frame, (x, y), 2, (0, 255, 255), -1)\n",
    "            \n",
    "            # Convert landmarks to NumPy array\n",
    "            landmarks_np = np.array(landmarks)\n",
    "\n",
    "            # Output the NumPy matrix\n",
    "            # print(\"Facial Landmarks Matrix:\")\n",
    "            # print(landmarks_np)\n",
    "            x = landmarks_np[:, 0].reshape((1,-1))\n",
    "            y = landmarks_np[:, 1].reshape((1,-1))\n",
    "            x_y = np.hstack((x, y))        \n",
    "            x = x_y[:, :468]\n",
    "            y = x_y[:, 468:]\n",
    "            # Normalize x\n",
    "            x_normalized = ((x - np.min(x, axis=1, keepdims=True)) / (np.max(x, axis=1, keepdims=True) - np.min(x, axis=1, keepdims=True)))\n",
    "            # Normalize y\n",
    "            y_normalized = ((y - np.min(y, axis=1, keepdims=True))  / (np.max(y, axis=1, keepdims=True) - np.min(y, axis=1, keepdims=True)))\n",
    "            x_y = np.hstack((x_normalized, y_normalized))\n",
    "            angle = loaded_model.predict(x_y)\n",
    "            pitch = angle[0,0]\n",
    "            yaw = angle[0,1]\n",
    "            roll = angle[0,2]\n",
    "            draw_lines(frame, pitch, yaw, roll, tdx=x[0,168]*iw, tdy=y[0,168]*ih, size=100)\n",
    "\n",
    "    # Display the frame\n",
    "    cv2.imshow('Face Detection and Landmarks', frame)\n",
    "\n",
    "    if cv2.waitKey(1) & 0xFF == ord('q'):\n",
    "        break\n",
    "\n",
    "face_detection.close()\n",
    "face_mesh.close()\n",
    "cap.release()\n",
    "cv2.destroyAllWindows()\n"
   ]
  },
  {
   "cell_type": "markdown",
   "metadata": {},
   "source": [
    "## 13- Making Video :"
   ]
  },
  {
   "cell_type": "code",
   "execution_count": null,
   "metadata": {},
   "outputs": [],
   "source": [
    "pip install moviepy\n"
   ]
  },
  {
   "cell_type": "code",
   "execution_count": null,
   "metadata": {},
   "outputs": [],
   "source": [
    "pip install pydub"
   ]
  },
  {
   "cell_type": "code",
   "execution_count": 1,
   "metadata": {},
   "outputs": [],
   "source": [
    "pip install ffpyplayer"
   ]
  },
  {
   "cell_type": "code",
   "execution_count": 24,
   "metadata": {},
   "outputs": [],
   "source": [
    "# from ffpyplayer.player import MediaPlayer\n",
    "# video_path = \"D:\\ITI_Schoolarship\\ML_Supervised\\Project\\my_vid_0.mp4\"  # Replace with the path to your video file\n",
    "# def PlayVideo(video_path):\n",
    "#     video=cv2.VideoCapture(video_path)\n",
    "#     player = MediaPlayer(video_path)\n",
    "#     while True:\n",
    "#         grabbed, frame=video.read()\n",
    "#         audio_frame, val = player.get_frame()\n",
    "#         if not grabbed:\n",
    "#             print(\"End of video\")\n",
    "#             break\n",
    "#         if cv2.waitKey(28) & 0xFF == ord(\"q\"):\n",
    "#             break\n",
    "#         cv2.imshow(\"Video\", frame)\n",
    "#         if val != 'eof' and audio_frame is not None:\n",
    "#             #audio\n",
    "#             img, t = audio_frame\n",
    "#     video.release()\n",
    "#     cv2.destroyAllWindows()\n",
    "# PlayVideo(video_path)"
   ]
  },
  {
   "cell_type": "code",
   "execution_count": 45,
   "metadata": {},
   "outputs": [
    {
     "name": "stdout",
     "output_type": "stream",
     "text": [
      "Moviepy - Building video final_output.mp4.\n",
      "MoviePy - Writing audio in final_outputTEMP_MPY_wvf_snd.mp3\n"
     ]
    },
    {
     "name": "stderr",
     "output_type": "stream",
     "text": [
      "                                                                  \r"
     ]
    },
    {
     "name": "stdout",
     "output_type": "stream",
     "text": [
      "MoviePy - Done.\n",
      "Moviepy - Writing video final_output.mp4\n",
      "\n"
     ]
    },
    {
     "name": "stderr",
     "output_type": "stream",
     "text": [
      "                                                               \r"
     ]
    },
    {
     "name": "stdout",
     "output_type": "stream",
     "text": [
      "Moviepy - Done !\n",
      "Moviepy - video ready final_output.mp4\n"
     ]
    }
   ],
   "source": [
    "from moviepy.editor import VideoFileClip\n",
    "\n",
    "# Open the video file\n",
    "video_path = \"test.mp4\" \n",
    "cap = cv2.VideoCapture(video_path)\n",
    "\n",
    "mp_face_detection = mp.solutions.face_detection\n",
    "mp_face_mesh = mp.solutions.face_mesh\n",
    "\n",
    "face_detection = mp_face_detection.FaceDetection()\n",
    "face_mesh = mp_face_mesh.FaceMesh()\n",
    "\n",
    "# Define the codec and create VideoWriter object\n",
    "fourcc = cv2.VideoWriter_fourcc(*'X264')\n",
    "output_video_path = \"output_video_test.mp4\"\n",
    "output_video = cv2.VideoWriter(output_video_path, fourcc, 30.0, (int(cap.get(3)), int(cap.get(4))))\n",
    "\n",
    "# Extract original audio\n",
    "video_clip = VideoFileClip(video_path)\n",
    "original_audio = video_clip.audio\n",
    "\n",
    "while cap.isOpened():\n",
    "    ret, frame = cap.read()\n",
    "    if not ret:\n",
    "        break\n",
    "\n",
    "    # Convert the image to RGB\n",
    "    frame_rgb = cv2.cvtColor(frame, cv2.COLOR_BGR2RGB)\n",
    "    # Face detection\n",
    "    result_detection = face_detection.process(frame_rgb)\n",
    "\n",
    "    if result_detection.detections:\n",
    "        for detection in result_detection.detections:\n",
    "            bboxC = detection.location_data.relative_bounding_box\n",
    "            ih, iw, _ = frame.shape\n",
    "            bbox = int(bboxC.xmin * iw), int(bboxC.ymin * ih), \\\n",
    "                   int(bboxC.width * iw), int(bboxC.height * ih)\n",
    "            cv2.rectangle(frame, bbox, (255, 0, 255), 2)\n",
    "\n",
    "    # Face landmark detection\n",
    "    result_landmarks = face_mesh.process(frame_rgb)\n",
    "\n",
    "    if result_landmarks.multi_face_landmarks:\n",
    "        for face_landmarks in result_landmarks.multi_face_landmarks:\n",
    "            landmarks = []\n",
    "            for lm in face_landmarks.landmark:\n",
    "                x, y = (lm.x), (lm.y)\n",
    "                landmarks.append([x, y])\n",
    "            \n",
    "            # Convert landmarks to NumPy array\n",
    "            landmarks_np = np.array(landmarks)\n",
    "\n",
    "            # Output the NumPy matrix\n",
    "            x = landmarks_np[:, 0].reshape((1,-1))\n",
    "            y = landmarks_np[:, 1].reshape((1,-1))\n",
    "            x_y = np.hstack((x, y))        \n",
    "            x = x_y[:, :468]\n",
    "            y = x_y[:, 468:]\n",
    "            x_normalized = ((x - np.min(x, axis=1, keepdims=True)) / (np.max(x, axis=1, keepdims=True) - np.min(x, axis=1, keepdims=True)))\n",
    "            # Normalize y\n",
    "            y_normalized = ((y - np.min(y, axis=1, keepdims=True))  / (np.max(y, axis=1, keepdims=True) - np.min(y, axis=1, keepdims=True)))\n",
    "            x_y = np.hstack((x_normalized, y_normalized))\n",
    "            angles = loaded_model.predict(x_y)\n",
    "            pitch = angles[0,0]\n",
    "            yaw = angles[0,1]\n",
    "            roll = angles[0,2]\n",
    "            draw_lines(frame, pitch, yaw, roll, tdx=x[0,168]*iw, tdy=y[0,168]*ih, size=100)\n",
    "\n",
    "    # Write the frame into the output video\n",
    "    output_video.write(frame)\n",
    "\n",
    "    # Display the frame\n",
    "    cv2.imshow('Face Detection and Landmarks', frame)\n",
    "\n",
    "    if cv2.waitKey(10) & 0xFF == ord('q'):\n",
    "        break\n",
    "\n",
    "# Release everything if job is finished\n",
    "face_detection.close()\n",
    "face_mesh.close()\n",
    "cap.release()\n",
    "output_video.release()\n",
    "cv2.destroyAllWindows()\n",
    "\n",
    "# Merge the processed video with the original audio\n",
    "final_video = VideoFileClip(output_video_path)\n",
    "final_video = final_video.set_audio(original_audio)\n",
    "final_video.write_videofile(\"final_output.mp4\", codec='libx264')\n"
   ]
  },
  {
   "cell_type": "markdown",
   "metadata": {},
   "source": [
    "## ***(ADDITIONAL) 14- Trying to make PCA and retrain the models*** 🤷‍♂️🤷‍♂️😎"
   ]
  },
  {
   "cell_type": "markdown",
   "metadata": {},
   "source": [
    "## **Selecting 7 PCs**"
   ]
  },
  {
   "cell_type": "code",
   "execution_count": 28,
   "metadata": {},
   "outputs": [
    {
     "name": "stdout",
     "output_type": "stream",
     "text": [
      "[0.74768448 0.14383053 0.05120142 0.03219784 0.01189395 0.0039767\n",
      " 0.00319791]\n",
      "[149.08755228  65.38945851  39.01424497  30.93823734  18.80378744\n",
      "  10.87285792   9.75024292]\n"
     ]
    }
   ],
   "source": [
    "from sklearn.decomposition import PCA\n",
    "pca = PCA(n_components=7)\n",
    "pca_data = pca.fit(features)\n",
    "print(pca.explained_variance_ratio_)\n",
    "print(pca.singular_values_)"
   ]
  },
  {
   "cell_type": "code",
   "execution_count": 29,
   "metadata": {},
   "outputs": [
    {
     "data": {
      "text/plain": [
       "array([0.74768448, 0.891515  , 0.94271642, 0.97491426, 0.98680822,\n",
       "       0.99078492, 0.99398283])"
      ]
     },
     "execution_count": 29,
     "metadata": {},
     "output_type": "execute_result"
    }
   ],
   "source": [
    "np.cumsum(pca.explained_variance_ratio_)"
   ]
  },
  {
   "cell_type": "markdown",
   "metadata": {},
   "source": [
    "## **Preparing the new Data for Training**"
   ]
  },
  {
   "cell_type": "code",
   "execution_count": 30,
   "metadata": {},
   "outputs": [
    {
     "data": {
      "text/html": [
       "<div>\n",
       "<style scoped>\n",
       "    .dataframe tbody tr th:only-of-type {\n",
       "        vertical-align: middle;\n",
       "    }\n",
       "\n",
       "    .dataframe tbody tr th {\n",
       "        vertical-align: top;\n",
       "    }\n",
       "\n",
       "    .dataframe thead th {\n",
       "        text-align: right;\n",
       "    }\n",
       "</style>\n",
       "<table border=\"1\" class=\"dataframe\">\n",
       "  <thead>\n",
       "    <tr style=\"text-align: right;\">\n",
       "      <th></th>\n",
       "      <th>0</th>\n",
       "      <th>1</th>\n",
       "      <th>2</th>\n",
       "      <th>3</th>\n",
       "      <th>4</th>\n",
       "      <th>5</th>\n",
       "      <th>6</th>\n",
       "    </tr>\n",
       "  </thead>\n",
       "  <tbody>\n",
       "    <tr>\n",
       "      <th>0</th>\n",
       "      <td>-0.896201</td>\n",
       "      <td>-0.707157</td>\n",
       "      <td>-0.724163</td>\n",
       "      <td>-0.558274</td>\n",
       "      <td>0.075540</td>\n",
       "      <td>0.059856</td>\n",
       "      <td>0.349266</td>\n",
       "    </tr>\n",
       "    <tr>\n",
       "      <th>1</th>\n",
       "      <td>-6.025000</td>\n",
       "      <td>-0.300488</td>\n",
       "      <td>1.205319</td>\n",
       "      <td>0.114359</td>\n",
       "      <td>-0.828677</td>\n",
       "      <td>-0.173703</td>\n",
       "      <td>-0.160674</td>\n",
       "    </tr>\n",
       "    <tr>\n",
       "      <th>2</th>\n",
       "      <td>1.492157</td>\n",
       "      <td>-0.050130</td>\n",
       "      <td>-0.668118</td>\n",
       "      <td>0.453361</td>\n",
       "      <td>0.068124</td>\n",
       "      <td>0.021304</td>\n",
       "      <td>0.385217</td>\n",
       "    </tr>\n",
       "    <tr>\n",
       "      <th>3</th>\n",
       "      <td>-1.335605</td>\n",
       "      <td>2.128302</td>\n",
       "      <td>-0.030485</td>\n",
       "      <td>-0.894660</td>\n",
       "      <td>0.048836</td>\n",
       "      <td>0.126572</td>\n",
       "      <td>0.221498</td>\n",
       "    </tr>\n",
       "    <tr>\n",
       "      <th>4</th>\n",
       "      <td>0.023624</td>\n",
       "      <td>1.319234</td>\n",
       "      <td>-0.239737</td>\n",
       "      <td>0.268630</td>\n",
       "      <td>0.080335</td>\n",
       "      <td>0.042764</td>\n",
       "      <td>-0.136029</td>\n",
       "    </tr>\n",
       "    <tr>\n",
       "      <th>...</th>\n",
       "      <td>...</td>\n",
       "      <td>...</td>\n",
       "      <td>...</td>\n",
       "      <td>...</td>\n",
       "      <td>...</td>\n",
       "      <td>...</td>\n",
       "      <td>...</td>\n",
       "    </tr>\n",
       "    <tr>\n",
       "      <th>1848</th>\n",
       "      <td>2.804218</td>\n",
       "      <td>-0.356219</td>\n",
       "      <td>-0.648372</td>\n",
       "      <td>-0.484298</td>\n",
       "      <td>0.042756</td>\n",
       "      <td>-0.171136</td>\n",
       "      <td>-0.062791</td>\n",
       "    </tr>\n",
       "    <tr>\n",
       "      <th>1849</th>\n",
       "      <td>2.587604</td>\n",
       "      <td>-0.699839</td>\n",
       "      <td>-0.594775</td>\n",
       "      <td>-0.380257</td>\n",
       "      <td>-0.073537</td>\n",
       "      <td>-0.168693</td>\n",
       "      <td>0.211367</td>\n",
       "    </tr>\n",
       "    <tr>\n",
       "      <th>1850</th>\n",
       "      <td>0.175820</td>\n",
       "      <td>-1.963696</td>\n",
       "      <td>-0.193262</td>\n",
       "      <td>0.232811</td>\n",
       "      <td>0.192775</td>\n",
       "      <td>-0.099134</td>\n",
       "      <td>0.130300</td>\n",
       "    </tr>\n",
       "    <tr>\n",
       "      <th>1851</th>\n",
       "      <td>-0.186203</td>\n",
       "      <td>-0.831275</td>\n",
       "      <td>-0.753098</td>\n",
       "      <td>-0.824207</td>\n",
       "      <td>0.189537</td>\n",
       "      <td>-0.043492</td>\n",
       "      <td>-0.115623</td>\n",
       "    </tr>\n",
       "    <tr>\n",
       "      <th>1852</th>\n",
       "      <td>0.806032</td>\n",
       "      <td>0.014615</td>\n",
       "      <td>-0.723021</td>\n",
       "      <td>0.151619</td>\n",
       "      <td>0.076964</td>\n",
       "      <td>0.024396</td>\n",
       "      <td>-0.270383</td>\n",
       "    </tr>\n",
       "  </tbody>\n",
       "</table>\n",
       "<p>1853 rows × 7 columns</p>\n",
       "</div>"
      ],
      "text/plain": [
       "             0         1         2         3         4         5         6\n",
       "0    -0.896201 -0.707157 -0.724163 -0.558274  0.075540  0.059856  0.349266\n",
       "1    -6.025000 -0.300488  1.205319  0.114359 -0.828677 -0.173703 -0.160674\n",
       "2     1.492157 -0.050130 -0.668118  0.453361  0.068124  0.021304  0.385217\n",
       "3    -1.335605  2.128302 -0.030485 -0.894660  0.048836  0.126572  0.221498\n",
       "4     0.023624  1.319234 -0.239737  0.268630  0.080335  0.042764 -0.136029\n",
       "...        ...       ...       ...       ...       ...       ...       ...\n",
       "1848  2.804218 -0.356219 -0.648372 -0.484298  0.042756 -0.171136 -0.062791\n",
       "1849  2.587604 -0.699839 -0.594775 -0.380257 -0.073537 -0.168693  0.211367\n",
       "1850  0.175820 -1.963696 -0.193262  0.232811  0.192775 -0.099134  0.130300\n",
       "1851 -0.186203 -0.831275 -0.753098 -0.824207  0.189537 -0.043492 -0.115623\n",
       "1852  0.806032  0.014615 -0.723021  0.151619  0.076964  0.024396 -0.270383\n",
       "\n",
       "[1853 rows x 7 columns]"
      ]
     },
     "execution_count": 30,
     "metadata": {},
     "output_type": "execute_result"
    }
   ],
   "source": [
    "new_data = pca.transform(features)\n",
    "new_data = pd.DataFrame(new_data)\n",
    "new_data"
   ]
  },
  {
   "cell_type": "markdown",
   "metadata": {},
   "source": [
    "## **Train the new models**"
   ]
  },
  {
   "cell_type": "code",
   "execution_count": 43,
   "metadata": {},
   "outputs": [
    {
     "name": "stdout",
     "output_type": "stream",
     "text": [
      "labels_train.shape =  (1111, 3)\n",
      "labels_validation.shape =  (371, 3)\n",
      "==================================================\n",
      "LinearRegression() : \n",
      "Train :  0.4775001473368778\n",
      "Validation :  0.5711427139268964\n",
      "==================================================\n",
      "Lasso(alpha=0.001) : \n",
      "Train :  0.4773698749130862\n",
      "Validation :  0.5712034547202628\n",
      "==================================================\n",
      "Ridge(alpha=0.002) : \n",
      "Train :  0.4775001473162714\n",
      "Validation :  0.5711426722226841\n",
      "==================================================\n",
      "ElasticNet(alpha=0.0005, l1_ratio=0.1, random_state=99) : \n",
      "Train :  0.47749755570354546\n",
      "Validation :  0.57114432977131\n",
      "==================================================\n",
      "RandomForestRegressor(max_depth=20, n_jobs=-1, random_state=99) : \n",
      "Train :  0.9038718621961083\n",
      "Validation :  0.5958522399896017\n",
      "==================================================\n",
      "DecisionTreeRegressor(max_depth=300, min_samples_leaf=10, min_samples_split=20,\n",
      "                      random_state=99) : \n",
      "Train :  0.5093187471686103\n",
      "Validation :  0.4738480692695975\n",
      "==================================================\n"
     ]
    }
   ],
   "source": [
    "from sklearn import linear_model\n",
    "from sklearn.linear_model import Ridge\n",
    "from sklearn.linear_model import LinearRegression\n",
    "from sklearn.linear_model import ElasticNet\n",
    "from sklearn.model_selection import train_test_split\n",
    "from sklearn.ensemble import RandomForestRegressor\n",
    "from sklearn.tree import DecisionTreeRegressor\n",
    "\n",
    "\n",
    "new_features = new_data\n",
    "r_seed = 99\n",
    "\n",
    "features_train, features_validation_test, labels_train, labels_validation_test = train_test_split(new_features, labels, test_size=0.4, random_state=r_seed)\n",
    "features_validation, features_test, labels_validation, labels_test = train_test_split(features_validation_test, labels_validation_test, test_size=0.5, random_state=r_seed)\n",
    "\n",
    "\n",
    "print('labels_train.shape = ', labels_train.shape)\n",
    "print('labels_validation.shape = ', labels_validation.shape)\n",
    "print('=' * 50)\n",
    "\n",
    "## LR ##\n",
    "LR_PC7 = LinearRegression()\n",
    "LR_PC7.fit(features_train, labels_train)\n",
    "\n",
    "## LinearRegression Lasso ##\n",
    "lasso_reg_PC7 = linear_model.Lasso(alpha=0.001)\n",
    "lasso_reg_PC7.fit(features_train, labels_train)\n",
    "\n",
    "## LinearRegression Ridge ##\n",
    "ridge_reg_PC7 = Ridge(alpha=0.002)  \n",
    "ridge_reg_PC7.fit(features_train, labels_train)\n",
    "\n",
    "## ElasticNet Model ##\n",
    "alpha = 0.0005  # regularization strength\n",
    "l1_ratio = 0.1  # mixing parameter for L1 and L2 penalties\n",
    "elastic_net_PC7 = ElasticNet(alpha=alpha, l1_ratio=l1_ratio, random_state=r_seed)\n",
    "elastic_net_PC7.fit(features_train, labels_train)\n",
    "\n",
    "## Random Forest ##\n",
    "random_forest_reg_PC7 = RandomForestRegressor(n_estimators=100, max_depth=20, n_jobs=-1, random_state=r_seed)\n",
    "random_forest_reg_PC7.fit(features_train, labels_train)\n",
    "\n",
    "## Decision Tree ##\n",
    "dt_regressor_PC7 = DecisionTreeRegressor(max_depth=300, min_samples_split=20, min_samples_leaf=10, random_state=r_seed)\n",
    "dt_regressor_PC7.fit(features_train, labels_train)\n",
    "\n",
    "models_PC7 = [LR_PC7, lasso_reg_PC7, ridge_reg_PC7, elastic_net_PC7, random_forest_reg_PC7, dt_regressor_PC7]\n",
    "\n",
    "for model in models_PC7:\n",
    "    print(f'{model} : ')\n",
    "    print('Train : ', model.score(features_train, labels_train))\n",
    "    print('Validation : ', model.score(features_validation, labels_validation))\n",
    "    print('=' * 50)"
   ]
  },
  {
   "cell_type": "code",
   "execution_count": 55,
   "metadata": {},
   "outputs": [],
   "source": [
    "for model in models_PC7:\n",
    "    model.fit(new_features, labels)"
   ]
  },
  {
   "cell_type": "code",
   "execution_count": 56,
   "metadata": {},
   "outputs": [
    {
     "name": "stdout",
     "output_type": "stream",
     "text": [
      "LinearRegression() : \n",
      "Test :  0.3771148539106061\n",
      "==================================================\n",
      "Lasso(alpha=0.001) : \n",
      "Test :  0.3771427874922469\n",
      "==================================================\n",
      "Ridge(alpha=0.002) : \n",
      "Test :  0.3771146207718175\n",
      "==================================================\n",
      "ElasticNet(alpha=0.0005, l1_ratio=0.1, random_state=99) : \n",
      "Test :  0.37702732228944297\n",
      "==================================================\n",
      "RandomForestRegressor(max_depth=20, n_jobs=-1, random_state=99) : \n",
      "Test :  0.9135150079684934\n",
      "==================================================\n",
      "DecisionTreeRegressor(max_depth=300, min_samples_leaf=10, min_samples_split=20,\n",
      "                      random_state=99) : \n",
      "Test :  0.47023641868415705\n",
      "==================================================\n"
     ]
    }
   ],
   "source": [
    "for model in models_PC7:\n",
    "    print(f'{model} : ')\n",
    "    print('Test : ', model.score(features_test, labels_test))\n",
    "    print('=' * 50)"
   ]
  },
  {
   "cell_type": "markdown",
   "metadata": {},
   "source": [
    "## **Save The models :**"
   ]
  },
  {
   "cell_type": "code",
   "execution_count": 57,
   "metadata": {},
   "outputs": [
    {
     "data": {
      "text/plain": [
       "['dt_regressor_PC7.pkl']"
      ]
     },
     "execution_count": 57,
     "metadata": {},
     "output_type": "execute_result"
    }
   ],
   "source": [
    "import joblib\n",
    "joblib.dump(LR_PC7, 'LR_model_PC7.pkl')\n",
    "joblib.dump(ridge_reg_PC7, 'ridge_reg_PC7.pkl')\n",
    "joblib.dump(lasso_reg_PC7, 'lasso_reg_PC7.pkl')\n",
    "joblib.dump(elastic_net_PC7, 'elastic_net_PC7.pkl')\n",
    "joblib.dump(random_forest_reg_PC7, 'random_forest_reg_PC7.pkl')\n",
    "joblib.dump(dt_regressor_PC7, 'dt_regressor_PC7.pkl')"
   ]
  },
  {
   "cell_type": "code",
   "execution_count": 42,
   "metadata": {},
   "outputs": [
    {
     "name": "stdout",
     "output_type": "stream",
     "text": [
      "Average Train Scores:\n",
      "LR: 0.6900143216986422\n",
      "Lasso: 0.6894478643190406\n",
      "Ridge: 0.6900143210974826\n",
      "Elastic Net: 0.6876731453989371\n",
      "Random Forest: 0.9437001060736161\n",
      "Decision Tree: 0.766415908733869\n",
      "==================================================\n",
      "Average Validation Scores:\n",
      "LR: 0.6524705650718399\n",
      "Lasso: 0.6547709730256154\n",
      "Ridge: 0.6524720840668137\n",
      "Elastic Net: 0.6538575086472507\n",
      "Random Forest: 0.6019510063150373\n",
      "Decision Tree: 0.4288786544382665\n"
     ]
    }
   ],
   "source": [
    "from sklearn.model_selection import KFold\n",
    "\n",
    "# Define the number of folds\n",
    "n_splits = 5  # You can adjust the number of folds as needed\n",
    "\n",
    "# Create KFold instance\n",
    "kf = KFold(n_splits=n_splits, shuffle=True, random_state=r_seed)\n",
    "\n",
    "# Initialize lists to store scores\n",
    "# (you may need to adjust these based on your specific metrics)\n",
    "LR_train_scores = []\n",
    "LR_val_scores = []\n",
    "lasso_train_scores = []\n",
    "lasso_val_scores = []\n",
    "ridge_train_scores = []\n",
    "ridge_val_scores = []\n",
    "elastic_net_train_scores = []\n",
    "elastic_net_val_scores = []\n",
    "random_forest_train_scores = []\n",
    "random_forest_val_scores = []\n",
    "dt_train_scores = []\n",
    "dt_val_scores = []\n",
    "\n",
    "# Loop over the folds\n",
    "for train_index, val_index in kf.split(new_features):\n",
    "    features_train, features_validation = new_features.iloc[train_index], new_features.iloc[val_index]\n",
    "    labels_train, labels_validation = labels[train_index], labels[val_index]\n",
    "    \n",
    "\n",
    "# Loop over the folds\n",
    "for train_index, val_index in kf.split(new_features, labels):\n",
    "    features_train, features_validation = new_features.iloc[train_index], new_features.iloc[val_index]\n",
    "    labels_train, labels_validation = labels[train_index], labels[val_index]\n",
    "    \n",
    "    ## LR ##\n",
    "    LR_PC7 = LinearRegression()\n",
    "    LR_PC7.fit(features_train, labels_train)\n",
    "    LR_train_scores.append(LR_PC7.score(features_train, labels_train))\n",
    "    LR_val_scores.append(LR_PC7.score(features_validation, labels_validation))\n",
    "\n",
    "    ## LinearRegression Lasso ##\n",
    "    reg_PC7 = linear_model.Lasso(alpha=0.001)\n",
    "    reg_PC7.fit(features_train, labels_train)\n",
    "    lasso_train_scores.append(reg_PC7.score(features_train, labels_train))\n",
    "    lasso_val_scores.append(reg_PC7.score(features_validation, labels_validation))\n",
    "\n",
    "    ## LinearRegression Ridge ##\n",
    "    ridge_reg_PC7 = Ridge(alpha=0.002)\n",
    "    ridge_reg_PC7.fit(features_train, labels_train)\n",
    "    ridge_train_scores.append(ridge_reg_PC7.score(features_train, labels_train))\n",
    "    ridge_val_scores.append(ridge_reg_PC7.score(features_validation, labels_validation))\n",
    "\n",
    "    ## ElasticNet Model ##\n",
    "    alpha = 0.005  # regularization strength\n",
    "    l1_ratio = 0.1  # mixing parameter for L1 and L2 penalties\n",
    "    elastic_net_PC7 = ElasticNet(alpha=alpha, l1_ratio=l1_ratio, random_state=r_seed)\n",
    "    elastic_net_PC7.fit(features_train, labels_train)\n",
    "    elastic_net_train_scores.append(elastic_net_PC7.score(features_train, labels_train))\n",
    "    elastic_net_val_scores.append(elastic_net_PC7.score(features_validation, labels_validation))\n",
    "\n",
    "    ## Random Forest ##\n",
    "    random_forest_reg_PC7 = RandomForestRegressor(n_estimators=100, max_depth=20, n_jobs=-1, random_state=r_seed)\n",
    "    random_forest_reg_PC7.fit(features_train, labels_train)\n",
    "    random_forest_train_scores.append(random_forest_reg_PC7.score(features_train, labels_train))\n",
    "    random_forest_val_scores.append(random_forest_reg_PC7.score(features_validation, labels_validation))\n",
    "\n",
    "    ## Decision Tree ##\n",
    "    dt_regressor_PC7 = DecisionTreeRegressor(max_depth=300, min_samples_split=5, min_samples_leaf=5, random_state=r_seed)\n",
    "    dt_regressor_PC7.fit(features_train, labels_train)\n",
    "    dt_train_scores.append(dt_regressor_PC7.score(features_train, labels_train))\n",
    "    dt_val_scores.append(dt_regressor_PC7.score(features_validation, labels_validation))\n",
    "\n",
    "# Print average scores\n",
    "print('Average Train Scores:')\n",
    "print('LR:', np.mean(LR_train_scores))\n",
    "print('Lasso:', np.mean(lasso_train_scores))\n",
    "print('Ridge:', np.mean(ridge_train_scores))\n",
    "print('Elastic Net:', np.mean(elastic_net_train_scores))\n",
    "print('Random Forest:', np.mean(random_forest_train_scores))\n",
    "print('Decision Tree:', np.mean(dt_train_scores))\n",
    "print('=' * 50)\n",
    "print('Average Validation Scores:')\n",
    "print('LR:', np.mean(LR_val_scores))\n",
    "print('Lasso:', np.mean(lasso_val_scores))\n",
    "print('Ridge:', np.mean(ridge_val_scores))\n",
    "print('Elastic Net:', np.mean(elastic_net_val_scores))\n",
    "print('Random Forest:', np.mean(random_forest_val_scores))\n",
    "print('Decision Tree:', np.mean(dt_val_scores))\n"
   ]
  },
  {
   "cell_type": "code",
   "execution_count": 58,
   "metadata": {},
   "outputs": [],
   "source": [
    "mp_face_detection = mp.solutions.face_detection\n",
    "mp_face_mesh = mp.solutions.face_mesh\n",
    "\n",
    "face_detection = mp_face_detection.FaceDetection()\n",
    "face_mesh = mp_face_mesh.FaceMesh()\n",
    "\n",
    "cap = cv2.VideoCapture(0)\n",
    "\n",
    "while cap.isOpened():\n",
    "    ret, frame = cap.read()\n",
    "    if not ret:\n",
    "        break\n",
    "\n",
    "    # Convert the image to RGB\n",
    "    frame_rgb = cv2.cvtColor(frame, cv2.COLOR_BGR2RGB)\n",
    "    # Face detection\n",
    "    result_detection = face_detection.process(frame_rgb)\n",
    "\n",
    "    if result_detection.detections:\n",
    "        for detection in result_detection.detections:\n",
    "            bboxC = detection.location_data.relative_bounding_box\n",
    "            ih, iw, _ = frame.shape\n",
    "            bbox = int(bboxC.xmin * iw), int(bboxC.ymin * ih), \\\n",
    "                   int(bboxC.width * iw), int(bboxC.height * ih)\n",
    "            cv2.rectangle(frame, bbox, (255, 0, 255), 2)\n",
    "\n",
    "    # Face landmark detection\n",
    "    result_landmarks = face_mesh.process(frame_rgb)\n",
    "\n",
    "    if result_landmarks.multi_face_landmarks:\n",
    "        for face_landmarks in result_landmarks.multi_face_landmarks:\n",
    "            landmarks = []\n",
    "            for lm in face_landmarks.landmark:\n",
    "                # x_0, y_0 = int(lm.x * iw), int(lm.y * ih)\n",
    "                x, y = (lm.x), (lm.y)\n",
    "                landmarks.append([x, y])\n",
    "                # cv2.circle(frame, (x, y), 2, (0, 255, 255), -1)\n",
    "            \n",
    "            # Convert landmarks to NumPy array\n",
    "            landmarks_np = np.array(landmarks)\n",
    "\n",
    "            # Output the NumPy matrix\n",
    "            # print(\"Facial Landmarks Matrix:\")\n",
    "            # print(landmarks_np)\n",
    "            x = landmarks_np[:, 0].reshape((1,-1))\n",
    "            y = landmarks_np[:, 1].reshape((1,-1))\n",
    "            x_y = np.hstack((x, y))        \n",
    "            x = x_y[:, :468]\n",
    "            y = x_y[:, 468:]\n",
    "            # Normalize x\n",
    "            x_normalized = ((x - np.min(x, axis=1, keepdims=True)) / (np.max(x, axis=1, keepdims=True) - np.min(x, axis=1, keepdims=True)))\n",
    "\n",
    "            # Normalize y\n",
    "            y_normalized = ((y - np.min(y, axis=1, keepdims=True))  / (np.max(y, axis=1, keepdims=True) - np.min(y, axis=1, keepdims=True)))\n",
    "            x_y = np.hstack((x_normalized, y_normalized))\n",
    "            new_x_y = pca.transform(x_y)\n",
    "            angles_PC7 = LR_PC7.predict(new_x_y)\n",
    "            pitch = angles_PC7[0,0]\n",
    "            yaw = angles_PC7[0,1]\n",
    "            roll = angles_PC7[0,2]\n",
    "            draw_lines(frame, pitch, yaw, roll, tdx=x[0,168]*iw, tdy=y[0,168]*ih, size=100)\n",
    "\n",
    "    # Display the frame\n",
    "    cv2.imshow('Face Detection and Landmarks', frame)\n",
    "\n",
    "    if cv2.waitKey(1) & 0xFF == ord('q'):\n",
    "        break\n",
    "\n",
    "face_detection.close()\n",
    "face_mesh.close()\n",
    "cap.release()\n",
    "cv2.destroyAllWindows()\n"
   ]
  },
  {
   "cell_type": "code",
   "execution_count": 38,
   "metadata": {},
   "outputs": [],
   "source": [
    "from moviepy.editor import VideoFileClip\n",
    "\n",
    "# Open the video file\n",
    "video_path = \"test.mp4\" \n",
    "cap = cv2.VideoCapture(video_path)\n",
    "\n",
    "mp_face_detection = mp.solutions.face_detection\n",
    "mp_face_mesh = mp.solutions.face_mesh\n",
    "\n",
    "face_detection = mp_face_detection.FaceDetection()\n",
    "face_mesh = mp_face_mesh.FaceMesh()\n",
    "\n",
    "# Define the codec and create VideoWriter object\n",
    "fourcc = cv2.VideoWriter_fourcc(*'X264')\n",
    "output_video_path = \"output_video_test.mp4\"\n",
    "output_video = cv2.VideoWriter(output_video_path, fourcc, 30.0, (int(cap.get(3)), int(cap.get(4))))\n",
    "\n",
    "# Extract original audio\n",
    "video_clip = VideoFileClip(video_path)\n",
    "original_audio = video_clip.audio\n",
    "\n",
    "while cap.isOpened():\n",
    "    ret, frame = cap.read()\n",
    "    if not ret:\n",
    "        break\n",
    "\n",
    "    # Convert the image to RGB\n",
    "    frame_rgb = cv2.cvtColor(frame, cv2.COLOR_BGR2RGB)\n",
    "    # Face detection\n",
    "    result_detection = face_detection.process(frame_rgb)\n",
    "\n",
    "    if result_detection.detections:\n",
    "        for detection in result_detection.detections:\n",
    "            bboxC = detection.location_data.relative_bounding_box\n",
    "            ih, iw, _ = frame.shape\n",
    "            bbox = int(bboxC.xmin * iw), int(bboxC.ymin * ih), \\\n",
    "                   int(bboxC.width * iw), int(bboxC.height * ih)\n",
    "            cv2.rectangle(frame, bbox, (255, 0, 255), 2)\n",
    "\n",
    "    # Face landmark detection\n",
    "    result_landmarks = face_mesh.process(frame_rgb)\n",
    "\n",
    "    if result_landmarks.multi_face_landmarks:\n",
    "        for face_landmarks in result_landmarks.multi_face_landmarks:\n",
    "            landmarks = []\n",
    "            for lm in face_landmarks.landmark:\n",
    "                x, y = (lm.x), (lm.y)\n",
    "                landmarks.append([x, y])\n",
    "            \n",
    "            # Convert landmarks to NumPy array\n",
    "            landmarks_np = np.array(landmarks)\n",
    "\n",
    "            # Output the NumPy matrix\n",
    "            x = landmarks_np[:, 0].reshape((1,-1))\n",
    "            y = landmarks_np[:, 1].reshape((1,-1))\n",
    "            x_y = np.hstack((x, y))        \n",
    "            x = x_y[:, :468]\n",
    "            y = x_y[:, 468:]\n",
    "            x_normalized = ((x - np.min(x, axis=1, keepdims=True)) / (np.max(x, axis=1, keepdims=True) - np.min(x, axis=1, keepdims=True)))\n",
    "            # Normalize y\n",
    "            y_normalized = ((y - np.min(y, axis=1, keepdims=True))  / (np.max(y, axis=1, keepdims=True) - np.min(y, axis=1, keepdims=True)))\n",
    "            x_y = np.hstack((x_normalized, y_normalized))\n",
    "            new_x_y = pca.transform(x_y)\n",
    "            angles = LR_PC7.predict(new_x_y)\n",
    "            pitch = angles[0,0]\n",
    "            yaw = angles[0,1]\n",
    "            roll = angles[0,2]\n",
    "            draw_lines(frame, pitch, yaw, roll, tdx=x[0,168]*iw, tdy=y[0,168]*ih, size=100)\n",
    "\n",
    "    # Write the frame into the output video\n",
    "    output_video.write(frame)\n",
    "\n",
    "    # Display the frame\n",
    "    cv2.imshow('Face Detection and Landmarks', frame)\n",
    "\n",
    "    if cv2.waitKey(10) & 0xFF == ord('q'):\n",
    "        break\n",
    "\n",
    "# Release everything if job is finished\n",
    "face_detection.close()\n",
    "face_mesh.close()\n",
    "cap.release()\n",
    "output_video.release()\n",
    "cv2.destroyAllWindows()\n",
    "\n",
    "# Merge the processed video with the original audio\n",
    "final_video = VideoFileClip(output_video_path)\n",
    "final_video = final_video.set_audio(original_audio)\n",
    "final_video.write_videofile(\"final_output.mp4\", codec='libx264')\n"
   ]
  }
 ],
 "metadata": {
  "kernelspec": {
   "display_name": "base",
   "language": "python",
   "name": "python3"
  },
  "language_info": {
   "codemirror_mode": {
    "name": "ipython",
    "version": 3
   },
   "file_extension": ".py",
   "mimetype": "text/x-python",
   "name": "python",
   "nbconvert_exporter": "python",
   "pygments_lexer": "ipython3",
   "version": "3.11.5"
  }
 },
 "nbformat": 4,
 "nbformat_minor": 2
}
